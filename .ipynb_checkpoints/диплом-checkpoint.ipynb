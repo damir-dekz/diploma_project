{
 "cells": [
  {
   "cell_type": "markdown",
   "metadata": {},
   "source": [
    "Импорт библиотек"
   ]
  },
  {
   "cell_type": "code",
   "execution_count": 1,
   "metadata": {
    "ExecuteTime": {
     "end_time": "2024-04-10T11:25:28.993849Z",
     "start_time": "2024-04-10T11:25:22.759179Z"
    },
    "id": "Vtu44qhbXszh"
   },
   "outputs": [],
   "source": [
    "import pandas as pd\n",
    "import numpy as np\n",
    "import matplotlib.pyplot as plt\n",
    "\n",
    "from sklearn.model_selection import train_test_split\n",
    "from sklearn.preprocessing import StandardScaler\n",
    "import torch\n",
    "import torch.nn as nn\n",
    "import torch.optim as optim"
   ]
  },
  {
   "cell_type": "markdown",
   "metadata": {},
   "source": [
    "Загрузка данных"
   ]
  },
  {
   "cell_type": "code",
   "execution_count": 81,
   "metadata": {
    "ExecuteTime": {
     "end_time": "2024-04-10T11:41:12.202860Z",
     "start_time": "2024-04-10T11:41:12.159292Z"
    }
   },
   "outputs": [],
   "source": [
    "# id студентов\n",
    "IDS = [\n",
    "    220101027,\n",
    "    210101125,\n",
    "    210109012,\n",
    "    210109023,\n",
    "    220101016,\n",
    "    220101049,\n",
    "    220101172,\n",
    "    220101170,\n",
    "    220101085,\n",
    "    220101190,\n",
    "    220101184,\n",
    "    220101229,\n",
    "    220101119,\n",
    "    220101077,\n",
    "    220101233,\n",
    "    220101081,\n",
    "    220101020,\n",
    "    220101029,\n",
    "    220101241,\n",
    "    220101057,\n",
    "    220101019,\n",
    "    220101120,\n",
    "    220101042,\n",
    "    220101082,\n",
    "    220101214,\n",
    "    210109024,\n",
    "    220101208,\n",
    "    220101106,\n",
    "    220101054,\n",
    "    220101166,\n",
    "    220101194,\n",
    "    200109063,\n",
    "    220101159,\n",
    "    220101246,\n",
    "    220101209,\n",
    "    220101248,\n",
    "    220101196,\n",
    "    220101191,\n",
    "    220101228,\n",
    "    200109022,\n",
    "    210101021,\n",
    "    210101031,\n",
    "    220101148,\n",
    "    220101160,\n",
    "    220101163,\n",
    "    210109027,\n",
    "    210101142,\n",
    "    220101011,\n",
    "    220101221,\n",
    "    200109011,\n",
    "    220101023,\n",
    "    220101149,\n",
    "    220101143,\n",
    "    220101098,\n",
    "    220101157,\n",
    "    220101055,\n",
    "    210109033,\n",
    "    220101033,\n",
    "    220101134,\n",
    "    220101101,\n",
    "    220101238,\n",
    "    220101058,\n",
    "    210109026,\n",
    "    210101095,\n",
    "    220101186,\n",
    "    220101210,\n",
    "    220101108,\n",
    "    220101139,\n",
    "    220101012,\n",
    "    220101216,\n",
    "    220101237,\n",
    "    210101036,\n",
    "    210101110,\n",
    "    220101133,\n",
    "    220101051,\n",
    "    220101240,\n",
    "    220101239,\n",
    "    210109025,\n",
    "    220101022,\n",
    "    220101199,\n",
    "    220101087,\n",
    "    220101111,\n",
    "    220101188,\n",
    "    220101200,\n",
    "    220101059,\n",
    "    220101205,\n",
    "    220101037,\n",
    "    220101211,\n",
    "    220101045,\n",
    "    210101027,\n",
    "]\n",
    "\n",
    "#Course Absence Rate\n",
    "ABS_PERC = [\n",
    "    \"3 %\",\n",
    "    \"25 %\",\n",
    "    \"29 %\",\n",
    "    \"10 %\",\n",
    "    \"10 %\",\n",
    "    \"8 %\",\n",
    "    \"0 %\",\n",
    "    \"10 %\",\n",
    "    \"7 %\",\n",
    "    \"0 %\",\n",
    "    \"7 %\",\n",
    "    \"0 %\",\n",
    "    \"0 %\",\n",
    "    \"5 %\",\n",
    "    \"5 %\",\n",
    "    \"0 %\",\n",
    "    \"10 %\",\n",
    "    \"8 %\",\n",
    "    \"0 %\",\n",
    "    \"33 %\",\n",
    "    \"0 %\",\n",
    "    \"27 %\",\n",
    "    \"27 %\",\n",
    "    \"8 %\",\n",
    "    \"8 %\",\n",
    "    \"17 %\",\n",
    "    \"63 %\",\n",
    "    \"15 %\",\n",
    "    \"8 %\",\n",
    "    \"3 %\",\n",
    "    \"23 %\",\n",
    "    \"43 %\",\n",
    "    \"0 %\",\n",
    "    \"17 %\",\n",
    "    \"13 %\",\n",
    "    \"0 %\",\n",
    "    \"33 %\",\n",
    "    \"8 %\",\n",
    "    \"7 %\",\n",
    "    \"20 %\",\n",
    "    \"23 %\",\n",
    "    \"30 %\",\n",
    "    \"2 %\",\n",
    "    \"30 %\",\n",
    "    \"22 %\",\n",
    "    \"3 %\",\n",
    "    \"3 %\",\n",
    "    \"25 %\",\n",
    "    \"8 %\",\n",
    "    \"17 %\",\n",
    "    \"28 %\",\n",
    "    \"0 %\",\n",
    "    \"10 %\",\n",
    "    \"8 %\",\n",
    "    \"10 %\",\n",
    "    \"5 %\",\n",
    "    \"48 %\",\n",
    "    \"29 %\",\n",
    "    \"0 %\",\n",
    "    \"15 %\",\n",
    "    \"3 %\",\n",
    "    \"10 %\",\n",
    "    \"20 %\",\n",
    "    \"25 %\",\n",
    "    \"10 %\",\n",
    "    \"3 %\",\n",
    "    \"2 %\",\n",
    "    \"10 %\",\n",
    "    \"20 %\",\n",
    "    \"0 %\",\n",
    "    \"5 %\",\n",
    "    \"18 %\",\n",
    "    \"30 %\",\n",
    "    \"65 %\",\n",
    "    \"5 %\",\n",
    "    \"8 %\",\n",
    "    \"8 %\",\n",
    "    \"18 %\",\n",
    "    \"25 %\",\n",
    "    \"0 %\",\n",
    "    \"15 %\",\n",
    "    \"12 %\",\n",
    "    \"17 %\",\n",
    "    \"20 %\",\n",
    "    \"15 %\",\n",
    "    \"0 %\",\n",
    "    \"8 %\",\n",
    "    \"0 %\",\n",
    "    \"0 %\",\n",
    "    \"23 %\"\n",
    "]\n",
    "\n",
    "# Convert to decimal format\n",
    "ABS_PERC = [float(p.strip().replace(' %', '')) / 100 for p in ABS_PERC]\n",
    "\n",
    "PF = [\n",
    "    92,\n",
    "    100,\n",
    "    90,\n",
    "    87,\n",
    "    85,\n",
    "    93,\n",
    "    100,\n",
    "    100,\n",
    "    100,\n",
    "    98,\n",
    "    75,\n",
    "    100,\n",
    "    100,\n",
    "    100,\n",
    "    100,\n",
    "    68,\n",
    "    63,\n",
    "    100,\n",
    "    100,\n",
    "    'failed',\n",
    "    100,\n",
    "    100,\n",
    "    92,\n",
    "    100,\n",
    "    63,\n",
    "    100,\n",
    "    'failed',\n",
    "    100,\n",
    "    100,\n",
    "    100,\n",
    "    96,\n",
    "    'failed',\n",
    "    98,\n",
    "    88,\n",
    "    88,\n",
    "    68,\n",
    "    'failed',\n",
    "    100,\n",
    "    100,\n",
    "    100,\n",
    "    73,\n",
    "    0,\n",
    "    83,\n",
    "    76,\n",
    "    100,\n",
    "    100,\n",
    "    98,\n",
    "    58,\n",
    "    73,\n",
    "    100,\n",
    "    67,\n",
    "    100,\n",
    "    100,\n",
    "    100,\n",
    "    100,\n",
    "    100,\n",
    "    'failed',\n",
    "    88,\n",
    "    100,\n",
    "    75,\n",
    "    100,\n",
    "    100,\n",
    "    100,\n",
    "    70,\n",
    "    45,\n",
    "    100,\n",
    "    100,\n",
    "    92,\n",
    "    83,\n",
    "    100,\n",
    "    100,\n",
    "    60,\n",
    "    58,\n",
    "    'failed',\n",
    "    80,\n",
    "    70,\n",
    "    100,\n",
    "    100,\n",
    "    42,\n",
    "    100,\n",
    "    100,\n",
    "    73,\n",
    "    100,\n",
    "    25,\n",
    "    100,\n",
    "    83,\n",
    "    88,\n",
    "    100,\n",
    "    97,\n",
    "    68,\n",
    "]\n",
    "\n",
    "FINAL = [\n",
    "    36,\n",
    "    28,\n",
    "    10,\n",
    "    13,\n",
    "    10,\n",
    "    35,\n",
    "    75,\n",
    "    75,\n",
    "    24,\n",
    "    30,\n",
    "    62,\n",
    "    93,\n",
    "    80,\n",
    "    53,\n",
    "    35,\n",
    "    22,\n",
    "    68,\n",
    "    38,\n",
    "    88,\n",
    "    'failed',\n",
    "    70,\n",
    "    60,\n",
    "    10,\n",
    "    75,\n",
    "    38,\n",
    "    75,\n",
    "    'failed',\n",
    "    90,\n",
    "    43,\n",
    "    68,\n",
    "    29,\n",
    "    'failed',\n",
    "    40,\n",
    "    13,\n",
    "    10,\n",
    "    38,\n",
    "    'failed',\n",
    "    38,\n",
    "    8,\n",
    "    40,\n",
    "    20,\n",
    "    np.nan,\n",
    "    70,\n",
    "    13,\n",
    "    30,\n",
    "    90,\n",
    "    40,\n",
    "    35,\n",
    "    18,\n",
    "    63,\n",
    "    30,\n",
    "    80,\n",
    "    15,\n",
    "    74,\n",
    "    60,\n",
    "    55,\n",
    "    'failed',\n",
    "    15,\n",
    "    25,\n",
    "    62,\n",
    "    53,\n",
    "    33,\n",
    "    75,\n",
    "    20,\n",
    "    13,\n",
    "    87,\n",
    "    65,\n",
    "    38,\n",
    "    15,\n",
    "    74,\n",
    "    55,\n",
    "    8,\n",
    "    0,\n",
    "    'failed',\n",
    "    30,\n",
    "    25,\n",
    "    50,\n",
    "    43,\n",
    "    0,\n",
    "    78,\n",
    "    55,\n",
    "    28,\n",
    "    8,\n",
    "    'abs',\n",
    "    25,\n",
    "    30,\n",
    "    25,\n",
    "    38,\n",
    "    63,\n",
    "    25,\n",
    "]\n",
    "\n",
    "RE = [\n",
    "    np.nan,\n",
    "    np.nan,\n",
    "    np.nan,\n",
    "    np.nan,\n",
    "    np.nan,\n",
    "    np.nan,\n",
    "    np.nan,\n",
    "    np.nan,\n",
    "    np.nan,\n",
    "    np.nan,\n",
    "    np.nan,\n",
    "    np.nan,\n",
    "    np.nan,\n",
    "    np.nan,\n",
    "    np.nan,\n",
    "    np.nan,\n",
    "    np.nan,\n",
    "    np.nan,\n",
    "    np.nan,\n",
    "    'failed',\n",
    "    np.nan,\n",
    "    np.nan,\n",
    "    np.nan,\n",
    "    np.nan,\n",
    "    np.nan,\n",
    "    np.nan,\n",
    "    'failed',\n",
    "    np.nan,\n",
    "    np.nan,\n",
    "    np.nan,\n",
    "    np.nan,\n",
    "    'failed',\n",
    "    np.nan,\n",
    "    np.nan,\n",
    "    np.nan,\n",
    "    np.nan,\n",
    "    'failed',\n",
    "    np.nan,\n",
    "    np.nan,\n",
    "    np.nan,\n",
    "    np.nan,\n",
    "    np.nan,\n",
    "    np.nan,\n",
    "    np.nan,\n",
    "    np.nan,\n",
    "    np.nan,\n",
    "    np.nan,\n",
    "    np.nan,\n",
    "    np.nan,\n",
    "    np.nan,\n",
    "    np.nan,\n",
    "    np.nan,\n",
    "    np.nan,\n",
    "    np.nan,\n",
    "    np.nan,\n",
    "    np.nan,\n",
    "    'failed',\n",
    "    np.nan,\n",
    "    np.nan,\n",
    "    np.nan,\n",
    "    np.nan,\n",
    "    np.nan,\n",
    "    np.nan,\n",
    "    np.nan,\n",
    "    33,\n",
    "    np.nan,\n",
    "    np.nan,\n",
    "    np.nan,\n",
    "    np.nan,\n",
    "    np.nan,\n",
    "    np.nan,\n",
    "    34,\n",
    "    np.nan,\n",
    "    'failed',\n",
    "    np.nan,\n",
    "    np.nan,\n",
    "    np.nan,\n",
    "    np.nan,\n",
    "    np.nan,\n",
    "    np.nan,\n",
    "    np.nan,\n",
    "    np.nan,\n",
    "    np.nan,\n",
    "    np.nan,\n",
    "    np.nan,\n",
    "    np.nan,\n",
    "    np.nan,\n",
    "    np.nan,\n",
    "    np.nan,\n",
    "    np.nan,\n",
    "]\n",
    "\n",
    "AVG = [\n",
    "    70,\n",
    "    71,\n",
    "    58,\n",
    "    57,\n",
    "    55,\n",
    "    70,\n",
    "    90,\n",
    "    90,\n",
    "    70,\n",
    "    71,\n",
    "    70,\n",
    "    97,\n",
    "    92,\n",
    "    81,\n",
    "    74,\n",
    "    50,\n",
    "    65,\n",
    "    75,\n",
    "    95,\n",
    "    0,\n",
    "    88,\n",
    "    84,\n",
    "    59,\n",
    "    90,\n",
    "    53,\n",
    "    90,\n",
    "    0,\n",
    "    96,\n",
    "    77,\n",
    "    87,\n",
    "    69,\n",
    "    0,\n",
    "    75,\n",
    "    58,\n",
    "    57,\n",
    "    56,\n",
    "    0,\n",
    "    75,\n",
    "    63,\n",
    "    76,\n",
    "    52,\n",
    "    0,\n",
    "    78,\n",
    "    51,\n",
    "    72,\n",
    "    96,\n",
    "    75,\n",
    "    49,\n",
    "    51,\n",
    "    85,\n",
    "    52,\n",
    "    92,\n",
    "    66,\n",
    "    90,\n",
    "    84,\n",
    "    82,\n",
    "    0,\n",
    "    59,\n",
    "    70,\n",
    "    70,\n",
    "    81,\n",
    "    73,\n",
    "    90,\n",
    "    50,\n",
    "    40,\n",
    "    95,\n",
    "    86,\n",
    "    70,\n",
    "    56,\n",
    "    90,\n",
    "    82,\n",
    "    50,\n",
    "    35,\n",
    "    0,\n",
    "    60,\n",
    "    52,\n",
    "    80,\n",
    "    77,\n",
    "    25,\n",
    "    91,\n",
    "    82,\n",
    "    55,\n",
    "    63,\n",
    "    0,\n",
    "    70,\n",
    "    62,\n",
    "    63,\n",
    "    75,\n",
    "    83,\n",
    "    51,\n",
    "]\n",
    "\n",
    "\n",
    "LG = [\n",
    "    \"C+\",\n",
    "    \"C+\",\n",
    "    \"D+\",\n",
    "    \"D+\",\n",
    "    \"D+\",\n",
    "    \"C+\",\n",
    "    \"A-\",\n",
    "    \"A-\",\n",
    "    \"C+\",\n",
    "    \"C+\",\n",
    "    \"C+\",\n",
    "    \"A\",\n",
    "    \"A-\",\n",
    "    \"B\",\n",
    "    \"C+\",\n",
    "    \"D\",\n",
    "    \"C\",\n",
    "    \"B-\",\n",
    "    \"A\",\n",
    "    \"F\",\n",
    "    \"B+\",\n",
    "    \"B\",\n",
    "    \"D+\",\n",
    "    \"A-\",\n",
    "    \"D\",\n",
    "    \"A-\",\n",
    "    \"F\",\n",
    "    \"A\",\n",
    "    \"B-\",\n",
    "    \"B+\",\n",
    "    \"C\",\n",
    "    \"F\",\n",
    "    \"B-\",\n",
    "    \"D+\",\n",
    "    \"D+\",\n",
    "    \"D+\",\n",
    "    \"F\",\n",
    "    \"B-\",\n",
    "    \"C-\",\n",
    "    \"B-\",\n",
    "    \"D\",\n",
    "    \"F\",\n",
    "    \"B-\",\n",
    "    \"D\",\n",
    "    \"C+\",\n",
    "    \"A\",\n",
    "    \"B-\",\n",
    "    \"FX\",\n",
    "    \"D\",\n",
    "    \"B+\",\n",
    "    \"D\",\n",
    "    \"A-\",\n",
    "    \"C\",\n",
    "    \"A-\",\n",
    "    \"B\",\n",
    "    \"B\",\n",
    "    \"F\",\n",
    "    \"D+\",\n",
    "    \"C+\",\n",
    "    \"C+\",\n",
    "    \"B\",\n",
    "    \"C+\",\n",
    "    \"A-\",\n",
    "    \"D\",\n",
    "    \"FX\",\n",
    "    \"A\",\n",
    "    \"B+\",\n",
    "    \"C+\",\n",
    "    \"D+\",\n",
    "    \"A-\",\n",
    "    \"B\",\n",
    "    \"D\",\n",
    "    \"FX\",\n",
    "    \"F\",\n",
    "    \"C-\",\n",
    "    \"D\",\n",
    "    \"B\",\n",
    "    \"B-\",\n",
    "    \"FX\",\n",
    "    \"A-\",\n",
    "    \"B\",\n",
    "    \"D+\",\n",
    "    \"C-\",\n",
    "    \"F\",\n",
    "    \"C+\",\n",
    "    \"C-\",\n",
    "    \"C-\",\n",
    "    \"B-\",\n",
    "    \"B\",\n",
    "    \"D\"\n",
    "]\n",
    "\n"
   ]
  },
  {
   "cell_type": "markdown",
   "metadata": {},
   "source": [
    "IDS - ID students\n",
    "ABS_PERC - Course Absence Rate\n",
    "PF - Pre-final\n",
    "FINAL - Final\n",
    "RE - Resit Exam\n",
    "AVG - Average\n",
    "LG - Letter Grade"
   ]
  },
  {
   "cell_type": "markdown",
   "metadata": {},
   "source": [
    "Feature columns = ['Course Absence Rate', 'PF']\n",
    "Target column = 'FIN'"
   ]
  },
  {
   "cell_type": "code",
   "execution_count": 82,
   "metadata": {
    "ExecuteTime": {
     "end_time": "2024-04-10T11:41:19.519223Z",
     "start_time": "2024-04-10T11:41:19.506026Z"
    },
    "colab": {
     "base_uri": "https://localhost:8080/"
    },
    "id": "akE-mwotXtg-",
    "outputId": "2e24e3df-ae2e-42f4-9e40-467932930ddc"
   },
   "outputs": [],
   "source": [
    "df = pd.DataFrame({\n",
    "    'IDS': IDS,\n",
    "    'Course Absence Rate': ABS_PERC,\n",
    "    'PF': PF,\n",
    "    'FIN': FINAL,\n",
    "    'RE': RE,\n",
    "    'AVG': AVG,\n",
    "    'LG': LG\n",
    "})"
   ]
  },
  {
   "cell_type": "code",
   "execution_count": 84,
   "metadata": {
    "ExecuteTime": {
     "end_time": "2024-04-10T11:41:38.096802Z",
     "start_time": "2024-04-10T11:41:38.080128Z"
    },
    "colab": {
     "base_uri": "https://localhost:8080/",
     "height": 1000
    },
    "id": "_P8vQTu2YLJ-",
    "outputId": "5812cec2-6ac1-432c-c5b6-f8431f8c9e55"
   },
   "outputs": [
    {
     "data": {
      "text/html": [
       "<div>\n",
       "<style scoped>\n",
       "    .dataframe tbody tr th:only-of-type {\n",
       "        vertical-align: middle;\n",
       "    }\n",
       "\n",
       "    .dataframe tbody tr th {\n",
       "        vertical-align: top;\n",
       "    }\n",
       "\n",
       "    .dataframe thead th {\n",
       "        text-align: right;\n",
       "    }\n",
       "</style>\n",
       "<table border=\"1\" class=\"dataframe\">\n",
       "  <thead>\n",
       "    <tr style=\"text-align: right;\">\n",
       "      <th></th>\n",
       "      <th>IDS</th>\n",
       "      <th>Course Absence Rate</th>\n",
       "      <th>PF</th>\n",
       "      <th>FIN</th>\n",
       "      <th>RE</th>\n",
       "      <th>AVG</th>\n",
       "      <th>LG</th>\n",
       "    </tr>\n",
       "  </thead>\n",
       "  <tbody>\n",
       "    <tr>\n",
       "      <th>0</th>\n",
       "      <td>220101027</td>\n",
       "      <td>0.03</td>\n",
       "      <td>92</td>\n",
       "      <td>36</td>\n",
       "      <td>NaN</td>\n",
       "      <td>70</td>\n",
       "      <td>C+</td>\n",
       "    </tr>\n",
       "    <tr>\n",
       "      <th>1</th>\n",
       "      <td>210101125</td>\n",
       "      <td>0.25</td>\n",
       "      <td>100</td>\n",
       "      <td>28</td>\n",
       "      <td>NaN</td>\n",
       "      <td>71</td>\n",
       "      <td>C+</td>\n",
       "    </tr>\n",
       "    <tr>\n",
       "      <th>2</th>\n",
       "      <td>210109012</td>\n",
       "      <td>0.29</td>\n",
       "      <td>90</td>\n",
       "      <td>10</td>\n",
       "      <td>NaN</td>\n",
       "      <td>58</td>\n",
       "      <td>D+</td>\n",
       "    </tr>\n",
       "    <tr>\n",
       "      <th>3</th>\n",
       "      <td>210109023</td>\n",
       "      <td>0.10</td>\n",
       "      <td>87</td>\n",
       "      <td>13</td>\n",
       "      <td>NaN</td>\n",
       "      <td>57</td>\n",
       "      <td>D+</td>\n",
       "    </tr>\n",
       "    <tr>\n",
       "      <th>4</th>\n",
       "      <td>220101016</td>\n",
       "      <td>0.10</td>\n",
       "      <td>85</td>\n",
       "      <td>10</td>\n",
       "      <td>NaN</td>\n",
       "      <td>55</td>\n",
       "      <td>D+</td>\n",
       "    </tr>\n",
       "    <tr>\n",
       "      <th>...</th>\n",
       "      <td>...</td>\n",
       "      <td>...</td>\n",
       "      <td>...</td>\n",
       "      <td>...</td>\n",
       "      <td>...</td>\n",
       "      <td>...</td>\n",
       "      <td>...</td>\n",
       "    </tr>\n",
       "    <tr>\n",
       "      <th>85</th>\n",
       "      <td>220101205</td>\n",
       "      <td>0.00</td>\n",
       "      <td>83</td>\n",
       "      <td>30</td>\n",
       "      <td>NaN</td>\n",
       "      <td>62</td>\n",
       "      <td>C-</td>\n",
       "    </tr>\n",
       "    <tr>\n",
       "      <th>86</th>\n",
       "      <td>220101037</td>\n",
       "      <td>0.08</td>\n",
       "      <td>88</td>\n",
       "      <td>25</td>\n",
       "      <td>NaN</td>\n",
       "      <td>63</td>\n",
       "      <td>C-</td>\n",
       "    </tr>\n",
       "    <tr>\n",
       "      <th>87</th>\n",
       "      <td>220101211</td>\n",
       "      <td>0.00</td>\n",
       "      <td>100</td>\n",
       "      <td>38</td>\n",
       "      <td>NaN</td>\n",
       "      <td>75</td>\n",
       "      <td>B-</td>\n",
       "    </tr>\n",
       "    <tr>\n",
       "      <th>88</th>\n",
       "      <td>220101045</td>\n",
       "      <td>0.00</td>\n",
       "      <td>97</td>\n",
       "      <td>63</td>\n",
       "      <td>NaN</td>\n",
       "      <td>83</td>\n",
       "      <td>B</td>\n",
       "    </tr>\n",
       "    <tr>\n",
       "      <th>89</th>\n",
       "      <td>210101027</td>\n",
       "      <td>0.23</td>\n",
       "      <td>68</td>\n",
       "      <td>25</td>\n",
       "      <td>NaN</td>\n",
       "      <td>51</td>\n",
       "      <td>D</td>\n",
       "    </tr>\n",
       "  </tbody>\n",
       "</table>\n",
       "<p>90 rows × 7 columns</p>\n",
       "</div>"
      ],
      "text/plain": [
       "          IDS  Course Absence Rate   PF FIN   RE  AVG  LG\n",
       "0   220101027                 0.03   92  36  NaN   70  C+\n",
       "1   210101125                 0.25  100  28  NaN   71  C+\n",
       "2   210109012                 0.29   90  10  NaN   58  D+\n",
       "3   210109023                 0.10   87  13  NaN   57  D+\n",
       "4   220101016                 0.10   85  10  NaN   55  D+\n",
       "..        ...                  ...  ...  ..  ...  ...  ..\n",
       "85  220101205                 0.00   83  30  NaN   62  C-\n",
       "86  220101037                 0.08   88  25  NaN   63  C-\n",
       "87  220101211                 0.00  100  38  NaN   75  B-\n",
       "88  220101045                 0.00   97  63  NaN   83   B\n",
       "89  210101027                 0.23   68  25  NaN   51   D\n",
       "\n",
       "[90 rows x 7 columns]"
      ]
     },
     "execution_count": 84,
     "metadata": {},
     "output_type": "execute_result"
    }
   ],
   "source": [
    "df"
   ]
  },
  {
   "cell_type": "code",
   "execution_count": 85,
   "metadata": {
    "ExecuteTime": {
     "end_time": "2024-04-10T11:41:56.618736Z",
     "start_time": "2024-04-10T11:41:56.607770Z"
    }
   },
   "outputs": [
    {
     "name": "stdout",
     "output_type": "stream",
     "text": [
      "<class 'pandas.core.frame.DataFrame'>\n",
      "RangeIndex: 90 entries, 0 to 89\n",
      "Data columns (total 7 columns):\n",
      " #   Column               Non-Null Count  Dtype  \n",
      "---  ------               --------------  -----  \n",
      " 0   IDS                  90 non-null     int64  \n",
      " 1   Course Absence Rate  90 non-null     float64\n",
      " 2   PF                   90 non-null     object \n",
      " 3   FIN                  89 non-null     object \n",
      " 4   RE                   8 non-null      object \n",
      " 5   AVG                  90 non-null     int64  \n",
      " 6   LG                   90 non-null     object \n",
      "dtypes: float64(1), int64(2), object(4)\n",
      "memory usage: 5.0+ KB\n"
     ]
    }
   ],
   "source": [
    "df.info()"
   ]
  },
  {
   "cell_type": "markdown",
   "metadata": {},
   "source": [
    "Предоброботка данных"
   ]
  },
  {
   "cell_type": "code",
   "execution_count": 86,
   "metadata": {
    "ExecuteTime": {
     "end_time": "2024-04-10T11:42:00.774953Z",
     "start_time": "2024-04-10T11:42:00.761835Z"
    }
   },
   "outputs": [],
   "source": [
    "df['FIN'].fillna(0, inplace=True)\n",
    "# if FIN = 'failed' then FIN = 0"
   ]
  },
  {
   "cell_type": "code",
   "execution_count": 87,
   "metadata": {
    "ExecuteTime": {
     "end_time": "2024-04-10T11:42:01.097286Z",
     "start_time": "2024-04-10T11:42:01.089436Z"
    }
   },
   "outputs": [],
   "source": [
    "df['FIN'] = df['FIN'].replace('failed', 0)\n",
    "df['FIN'] = df['FIN'].replace('abs', 0)"
   ]
  },
  {
   "cell_type": "code",
   "execution_count": 88,
   "metadata": {
    "ExecuteTime": {
     "end_time": "2024-04-10T11:42:01.383715Z",
     "start_time": "2024-04-10T11:42:01.379237Z"
    }
   },
   "outputs": [],
   "source": [
    "df['FIN'] = pd.to_numeric(df['FIN'])"
   ]
  },
  {
   "cell_type": "code",
   "execution_count": 89,
   "metadata": {
    "ExecuteTime": {
     "end_time": "2024-04-10T11:42:01.711371Z",
     "start_time": "2024-04-10T11:42:01.706781Z"
    }
   },
   "outputs": [],
   "source": [
    "df['PF'] = df['PF'].replace('failed', 0)"
   ]
  },
  {
   "cell_type": "code",
   "execution_count": 90,
   "metadata": {
    "ExecuteTime": {
     "end_time": "2024-04-10T11:42:01.979503Z",
     "start_time": "2024-04-10T11:42:01.968823Z"
    }
   },
   "outputs": [],
   "source": [
    "df['PF'] = pd.to_numeric(df['PF'])"
   ]
  },
  {
   "cell_type": "code",
   "execution_count": 91,
   "metadata": {
    "ExecuteTime": {
     "end_time": "2024-04-10T11:42:02.245498Z",
     "start_time": "2024-04-10T11:42:02.227682Z"
    }
   },
   "outputs": [],
   "source": [
    "df['RE'] = df['RE'].replace(np.nan, 0)\n",
    "df['RE'] = df['RE'].replace('failed', 0)"
   ]
  },
  {
   "cell_type": "code",
   "execution_count": 92,
   "metadata": {
    "ExecuteTime": {
     "end_time": "2024-04-10T11:42:02.596355Z",
     "start_time": "2024-04-10T11:42:02.583472Z"
    }
   },
   "outputs": [],
   "source": [
    "df['RE'] = pd.to_numeric(df['RE'])"
   ]
  },
  {
   "cell_type": "code",
   "execution_count": 93,
   "metadata": {
    "ExecuteTime": {
     "end_time": "2024-04-10T11:42:04.597124Z",
     "start_time": "2024-04-10T11:42:04.583676Z"
    }
   },
   "outputs": [],
   "source": [
    "# # Обновляем значения в столбце FIN на основе значений в столбце RE\n",
    "# df['FIN'] = np.where((df['RE'] != np.nan) | (df['RE'] != 'failed'), df['RE'], df['FIN'])\n"
   ]
  },
  {
   "cell_type": "code",
   "execution_count": 94,
   "metadata": {
    "ExecuteTime": {
     "end_time": "2024-04-10T11:42:04.824170Z",
     "start_time": "2024-04-10T11:42:04.811328Z"
    },
    "colab": {
     "base_uri": "https://localhost:8080/"
    },
    "id": "zV9v_WvJmxpx",
    "outputId": "f270a671-7d99-4159-8015-ac3897c4470a"
   },
   "outputs": [
    {
     "name": "stdout",
     "output_type": "stream",
     "text": [
      "<class 'pandas.core.frame.DataFrame'>\n",
      "RangeIndex: 90 entries, 0 to 89\n",
      "Data columns (total 7 columns):\n",
      " #   Column               Non-Null Count  Dtype  \n",
      "---  ------               --------------  -----  \n",
      " 0   IDS                  90 non-null     int64  \n",
      " 1   Course Absence Rate  90 non-null     float64\n",
      " 2   PF                   90 non-null     int64  \n",
      " 3   FIN                  90 non-null     int64  \n",
      " 4   RE                   90 non-null     int64  \n",
      " 5   AVG                  90 non-null     int64  \n",
      " 6   LG                   90 non-null     object \n",
      "dtypes: float64(1), int64(5), object(1)\n",
      "memory usage: 5.0+ KB\n"
     ]
    }
   ],
   "source": [
    "df.info()"
   ]
  },
  {
   "cell_type": "code",
   "execution_count": 96,
   "metadata": {
    "ExecuteTime": {
     "end_time": "2024-04-10T11:42:15.439610Z",
     "start_time": "2024-04-10T11:42:15.427038Z"
    },
    "id": "lhYQdp_1WDwO"
   },
   "outputs": [
    {
     "data": {
      "text/html": [
       "<div>\n",
       "<style scoped>\n",
       "    .dataframe tbody tr th:only-of-type {\n",
       "        vertical-align: middle;\n",
       "    }\n",
       "\n",
       "    .dataframe tbody tr th {\n",
       "        vertical-align: top;\n",
       "    }\n",
       "\n",
       "    .dataframe thead th {\n",
       "        text-align: right;\n",
       "    }\n",
       "</style>\n",
       "<table border=\"1\" class=\"dataframe\">\n",
       "  <thead>\n",
       "    <tr style=\"text-align: right;\">\n",
       "      <th></th>\n",
       "      <th>IDS</th>\n",
       "      <th>Course Absence Rate</th>\n",
       "      <th>PF</th>\n",
       "      <th>FIN</th>\n",
       "      <th>RE</th>\n",
       "      <th>AVG</th>\n",
       "      <th>LG</th>\n",
       "    </tr>\n",
       "  </thead>\n",
       "  <tbody>\n",
       "    <tr>\n",
       "      <th>0</th>\n",
       "      <td>220101027</td>\n",
       "      <td>0.03</td>\n",
       "      <td>92</td>\n",
       "      <td>36</td>\n",
       "      <td>0</td>\n",
       "      <td>70</td>\n",
       "      <td>C+</td>\n",
       "    </tr>\n",
       "    <tr>\n",
       "      <th>1</th>\n",
       "      <td>210101125</td>\n",
       "      <td>0.25</td>\n",
       "      <td>100</td>\n",
       "      <td>28</td>\n",
       "      <td>0</td>\n",
       "      <td>71</td>\n",
       "      <td>C+</td>\n",
       "    </tr>\n",
       "    <tr>\n",
       "      <th>2</th>\n",
       "      <td>210109012</td>\n",
       "      <td>0.29</td>\n",
       "      <td>90</td>\n",
       "      <td>10</td>\n",
       "      <td>0</td>\n",
       "      <td>58</td>\n",
       "      <td>D+</td>\n",
       "    </tr>\n",
       "  </tbody>\n",
       "</table>\n",
       "</div>"
      ],
      "text/plain": [
       "         IDS  Course Absence Rate   PF  FIN  RE  AVG  LG\n",
       "0  220101027                 0.03   92   36   0   70  C+\n",
       "1  210101125                 0.25  100   28   0   71  C+\n",
       "2  210109012                 0.29   90   10   0   58  D+"
      ]
     },
     "execution_count": 96,
     "metadata": {},
     "output_type": "execute_result"
    }
   ],
   "source": [
    "df.head(3)"
   ]
  },
  {
   "cell_type": "code",
   "execution_count": 177,
   "metadata": {
    "ExecuteTime": {
     "end_time": "2024-04-11T09:40:24.030176Z",
     "start_time": "2024-04-11T09:40:23.991761Z"
    }
   },
   "outputs": [],
   "source": [
    "# df.to_csv('data2.csv', index=False)"
   ]
  },
  {
   "cell_type": "code",
   "execution_count": 162,
   "metadata": {
    "ExecuteTime": {
     "end_time": "2024-04-10T12:30:16.487894Z",
     "start_time": "2024-04-10T12:30:16.473731Z"
    }
   },
   "outputs": [],
   "source": [
    "# Предварительная обработка данных\n",
    "X = df[['Course Absence Rate', 'PF']].values\n",
    "y = df['FIN'].values"
   ]
  },
  {
   "cell_type": "code",
   "execution_count": 163,
   "metadata": {
    "ExecuteTime": {
     "end_time": "2024-04-10T12:30:17.011723Z",
     "start_time": "2024-04-10T12:30:16.996423Z"
    }
   },
   "outputs": [],
   "source": [
    "# # Нормализация данных\n",
    "# scaler = StandardScaler()\n",
    "# X_scaled = scaler.fit_transform(X)"
   ]
  },
  {
   "cell_type": "code",
   "execution_count": 164,
   "metadata": {
    "ExecuteTime": {
     "end_time": "2024-04-10T12:30:17.447290Z",
     "start_time": "2024-04-10T12:30:17.434004Z"
    }
   },
   "outputs": [],
   "source": [
    "# Разделение данных на обучающий и тестовый наборы\n",
    "X_train, X_test, y_train, y_test = train_test_split(X_scaled, y, test_size=0.2, random_state=42)\n"
   ]
  },
  {
   "cell_type": "code",
   "execution_count": 99,
   "metadata": {
    "ExecuteTime": {
     "end_time": "2024-04-10T11:42:36.444009Z",
     "start_time": "2024-04-10T11:42:36.433829Z"
    }
   },
   "outputs": [],
   "source": [
    "# Преобразование в тензоры PyTorch\n",
    "X_train_tensor = torch.tensor(X_train, dtype=torch.float32)\n",
    "y_train_tensor = torch.tensor(y_train, dtype=torch.float32).view(-1, 1)\n",
    "X_test_tensor = torch.tensor(X_test, dtype=torch.float32)\n",
    "y_test_tensor = torch.tensor(y_test, dtype=torch.float32).view(-1, 1)"
   ]
  },
  {
   "cell_type": "code",
   "execution_count": 134,
   "metadata": {
    "ExecuteTime": {
     "end_time": "2024-04-10T12:25:49.463341Z",
     "start_time": "2024-04-10T12:25:49.449435Z"
    }
   },
   "outputs": [],
   "source": [
    "# Определение архитектуры нейронной сети\n",
    "class Net(nn.Module):\n",
    "    def __init__(self):\n",
    "        super(Net, self).__init__()\n",
    "        self.fc1 = nn.Linear(2, 64)\n",
    "        self.fc2 = nn.Linear(64, 64)\n",
    "        self.fc3 = nn.Linear(64, 1)\n",
    "\n",
    "    def forward(self, x):\n",
    "        x = torch.relu(self.fc1(x))\n",
    "        x = torch.relu(self.fc2(x))\n",
    "        x = self.fc3(x)\n",
    "        return x\n",
    "\n",
    "# Создание экземпляра модели\n",
    "model = Net()"
   ]
  },
  {
   "cell_type": "code",
   "execution_count": 135,
   "metadata": {
    "ExecuteTime": {
     "end_time": "2024-04-10T12:25:49.644813Z",
     "start_time": "2024-04-10T12:25:49.631572Z"
    }
   },
   "outputs": [],
   "source": [
    "# Определение функции потерь и оптимизатора\n",
    "criterion = nn.MSELoss()\n",
    "optimizer = optim.Adam(model.parameters(), lr=0.001)"
   ]
  },
  {
   "cell_type": "code",
   "execution_count": 146,
   "metadata": {
    "ExecuteTime": {
     "end_time": "2024-04-10T12:27:58.737916Z",
     "start_time": "2024-04-10T12:27:58.707510Z"
    }
   },
   "outputs": [
    {
     "ename": "RuntimeError",
     "evalue": "mat1 and mat2 shapes cannot be multiplied (72x2 and 18x10)",
     "output_type": "error",
     "traceback": [
      "\u001b[1;31m---------------------------------------------------------------------------\u001b[0m",
      "\u001b[1;31mRuntimeError\u001b[0m                              Traceback (most recent call last)",
      "\u001b[1;32m~\\AppData\\Local\\Temp\\ipykernel_10012\\315313342.py\u001b[0m in \u001b[0;36m<module>\u001b[1;34m\u001b[0m\n\u001b[0;32m      6\u001b[0m \u001b[1;33m\u001b[0m\u001b[0m\n\u001b[0;32m      7\u001b[0m     \u001b[0moptimizer\u001b[0m\u001b[1;33m.\u001b[0m\u001b[0mzero_grad\u001b[0m\u001b[1;33m(\u001b[0m\u001b[1;33m)\u001b[0m\u001b[1;33m\u001b[0m\u001b[1;33m\u001b[0m\u001b[0m\n\u001b[1;32m----> 8\u001b[1;33m     \u001b[0moutputs\u001b[0m \u001b[1;33m=\u001b[0m \u001b[0mmodel\u001b[0m\u001b[1;33m(\u001b[0m\u001b[0minputs\u001b[0m\u001b[1;33m)\u001b[0m\u001b[1;33m\u001b[0m\u001b[1;33m\u001b[0m\u001b[0m\n\u001b[0m\u001b[0;32m      9\u001b[0m     \u001b[0mloss\u001b[0m \u001b[1;33m=\u001b[0m \u001b[0mcriterion\u001b[0m\u001b[1;33m(\u001b[0m\u001b[0moutputs\u001b[0m\u001b[1;33m,\u001b[0m \u001b[0mtargets\u001b[0m\u001b[1;33m.\u001b[0m\u001b[0mview\u001b[0m\u001b[1;33m(\u001b[0m\u001b[1;33m-\u001b[0m\u001b[1;36m1\u001b[0m\u001b[1;33m,\u001b[0m\u001b[1;36m1\u001b[0m\u001b[1;33m)\u001b[0m\u001b[1;33m)\u001b[0m\u001b[1;33m\u001b[0m\u001b[1;33m\u001b[0m\u001b[0m\n\u001b[0;32m     10\u001b[0m     \u001b[0mloss\u001b[0m\u001b[1;33m.\u001b[0m\u001b[0mbackward\u001b[0m\u001b[1;33m(\u001b[0m\u001b[1;33m)\u001b[0m\u001b[1;33m\u001b[0m\u001b[1;33m\u001b[0m\u001b[0m\n",
      "\u001b[1;32m~\\Anaconda3\\lib\\site-packages\\torch\\nn\\modules\\module.py\u001b[0m in \u001b[0;36m_call_impl\u001b[1;34m(self, *args, **kwargs)\u001b[0m\n\u001b[0;32m   1499\u001b[0m                 \u001b[1;32mor\u001b[0m \u001b[0m_global_backward_pre_hooks\u001b[0m \u001b[1;32mor\u001b[0m \u001b[0m_global_backward_hooks\u001b[0m\u001b[1;33m\u001b[0m\u001b[1;33m\u001b[0m\u001b[0m\n\u001b[0;32m   1500\u001b[0m                 or _global_forward_hooks or _global_forward_pre_hooks):\n\u001b[1;32m-> 1501\u001b[1;33m             \u001b[1;32mreturn\u001b[0m \u001b[0mforward_call\u001b[0m\u001b[1;33m(\u001b[0m\u001b[1;33m*\u001b[0m\u001b[0margs\u001b[0m\u001b[1;33m,\u001b[0m \u001b[1;33m**\u001b[0m\u001b[0mkwargs\u001b[0m\u001b[1;33m)\u001b[0m\u001b[1;33m\u001b[0m\u001b[1;33m\u001b[0m\u001b[0m\n\u001b[0m\u001b[0;32m   1502\u001b[0m         \u001b[1;31m# Do not call functions when jit is used\u001b[0m\u001b[1;33m\u001b[0m\u001b[1;33m\u001b[0m\u001b[0m\n\u001b[0;32m   1503\u001b[0m         \u001b[0mfull_backward_hooks\u001b[0m\u001b[1;33m,\u001b[0m \u001b[0mnon_full_backward_hooks\u001b[0m \u001b[1;33m=\u001b[0m \u001b[1;33m[\u001b[0m\u001b[1;33m]\u001b[0m\u001b[1;33m,\u001b[0m \u001b[1;33m[\u001b[0m\u001b[1;33m]\u001b[0m\u001b[1;33m\u001b[0m\u001b[1;33m\u001b[0m\u001b[0m\n",
      "\u001b[1;32m~\\AppData\\Local\\Temp\\ipykernel_10012\\2904577117.py\u001b[0m in \u001b[0;36mforward\u001b[1;34m(self, x)\u001b[0m\n\u001b[0;32m     19\u001b[0m     \u001b[1;32mdef\u001b[0m \u001b[0mforward\u001b[0m\u001b[1;33m(\u001b[0m\u001b[0mself\u001b[0m\u001b[1;33m,\u001b[0m\u001b[0mx\u001b[0m\u001b[1;33m)\u001b[0m\u001b[1;33m:\u001b[0m\u001b[1;33m\u001b[0m\u001b[1;33m\u001b[0m\u001b[0m\n\u001b[0;32m     20\u001b[0m \u001b[1;33m\u001b[0m\u001b[0m\n\u001b[1;32m---> 21\u001b[1;33m         \u001b[0mout\u001b[0m \u001b[1;33m=\u001b[0m \u001b[0mself\u001b[0m\u001b[1;33m.\u001b[0m\u001b[0mlinear1\u001b[0m\u001b[1;33m(\u001b[0m\u001b[0mx\u001b[0m\u001b[1;33m)\u001b[0m\u001b[1;33m\u001b[0m\u001b[1;33m\u001b[0m\u001b[0m\n\u001b[0m\u001b[0;32m     22\u001b[0m         \u001b[0mout\u001b[0m \u001b[1;33m=\u001b[0m \u001b[0mself\u001b[0m\u001b[1;33m.\u001b[0m\u001b[0mtanh1\u001b[0m\u001b[1;33m(\u001b[0m\u001b[0mout\u001b[0m\u001b[1;33m)\u001b[0m\u001b[1;33m\u001b[0m\u001b[1;33m\u001b[0m\u001b[0m\n\u001b[0;32m     23\u001b[0m \u001b[1;33m\u001b[0m\u001b[0m\n",
      "\u001b[1;32m~\\Anaconda3\\lib\\site-packages\\torch\\nn\\modules\\module.py\u001b[0m in \u001b[0;36m_call_impl\u001b[1;34m(self, *args, **kwargs)\u001b[0m\n\u001b[0;32m   1499\u001b[0m                 \u001b[1;32mor\u001b[0m \u001b[0m_global_backward_pre_hooks\u001b[0m \u001b[1;32mor\u001b[0m \u001b[0m_global_backward_hooks\u001b[0m\u001b[1;33m\u001b[0m\u001b[1;33m\u001b[0m\u001b[0m\n\u001b[0;32m   1500\u001b[0m                 or _global_forward_hooks or _global_forward_pre_hooks):\n\u001b[1;32m-> 1501\u001b[1;33m             \u001b[1;32mreturn\u001b[0m \u001b[0mforward_call\u001b[0m\u001b[1;33m(\u001b[0m\u001b[1;33m*\u001b[0m\u001b[0margs\u001b[0m\u001b[1;33m,\u001b[0m \u001b[1;33m**\u001b[0m\u001b[0mkwargs\u001b[0m\u001b[1;33m)\u001b[0m\u001b[1;33m\u001b[0m\u001b[1;33m\u001b[0m\u001b[0m\n\u001b[0m\u001b[0;32m   1502\u001b[0m         \u001b[1;31m# Do not call functions when jit is used\u001b[0m\u001b[1;33m\u001b[0m\u001b[1;33m\u001b[0m\u001b[0m\n\u001b[0;32m   1503\u001b[0m         \u001b[0mfull_backward_hooks\u001b[0m\u001b[1;33m,\u001b[0m \u001b[0mnon_full_backward_hooks\u001b[0m \u001b[1;33m=\u001b[0m \u001b[1;33m[\u001b[0m\u001b[1;33m]\u001b[0m\u001b[1;33m,\u001b[0m \u001b[1;33m[\u001b[0m\u001b[1;33m]\u001b[0m\u001b[1;33m\u001b[0m\u001b[1;33m\u001b[0m\u001b[0m\n",
      "\u001b[1;32m~\\Anaconda3\\lib\\site-packages\\torch\\nn\\modules\\linear.py\u001b[0m in \u001b[0;36mforward\u001b[1;34m(self, input)\u001b[0m\n\u001b[0;32m    112\u001b[0m \u001b[1;33m\u001b[0m\u001b[0m\n\u001b[0;32m    113\u001b[0m     \u001b[1;32mdef\u001b[0m \u001b[0mforward\u001b[0m\u001b[1;33m(\u001b[0m\u001b[0mself\u001b[0m\u001b[1;33m,\u001b[0m \u001b[0minput\u001b[0m\u001b[1;33m:\u001b[0m \u001b[0mTensor\u001b[0m\u001b[1;33m)\u001b[0m \u001b[1;33m->\u001b[0m \u001b[0mTensor\u001b[0m\u001b[1;33m:\u001b[0m\u001b[1;33m\u001b[0m\u001b[1;33m\u001b[0m\u001b[0m\n\u001b[1;32m--> 114\u001b[1;33m         \u001b[1;32mreturn\u001b[0m \u001b[0mF\u001b[0m\u001b[1;33m.\u001b[0m\u001b[0mlinear\u001b[0m\u001b[1;33m(\u001b[0m\u001b[0minput\u001b[0m\u001b[1;33m,\u001b[0m \u001b[0mself\u001b[0m\u001b[1;33m.\u001b[0m\u001b[0mweight\u001b[0m\u001b[1;33m,\u001b[0m \u001b[0mself\u001b[0m\u001b[1;33m.\u001b[0m\u001b[0mbias\u001b[0m\u001b[1;33m)\u001b[0m\u001b[1;33m\u001b[0m\u001b[1;33m\u001b[0m\u001b[0m\n\u001b[0m\u001b[0;32m    115\u001b[0m \u001b[1;33m\u001b[0m\u001b[0m\n\u001b[0;32m    116\u001b[0m     \u001b[1;32mdef\u001b[0m \u001b[0mextra_repr\u001b[0m\u001b[1;33m(\u001b[0m\u001b[0mself\u001b[0m\u001b[1;33m)\u001b[0m \u001b[1;33m->\u001b[0m \u001b[0mstr\u001b[0m\u001b[1;33m:\u001b[0m\u001b[1;33m\u001b[0m\u001b[1;33m\u001b[0m\u001b[0m\n",
      "\u001b[1;31mRuntimeError\u001b[0m: mat1 and mat2 shapes cannot be multiplied (72x2 and 18x10)"
     ]
    }
   ],
   "source": [
    "# Обучение модели\n",
    "epochs = 200\n",
    "for epoch in range(epochs):\n",
    "    inputs = torch.autograd.Variable(torch.Tensor(X_train).float())\n",
    "    targets = torch.autograd.Variable(torch.Tensor(y_train).float())\n",
    "\n",
    "    optimizer.zero_grad()\n",
    "    outputs = model(inputs)\n",
    "    loss = criterion(outputs, targets.view(-1,1))\n",
    "    loss.backward()\n",
    "    optimizer.step()\n",
    "\n",
    "    if (epoch+1) % 100 == 0:\n",
    "        print(f'Epoch [{epoch+1}/{epochs}], Loss: {loss.item():.4f}')"
   ]
  },
  {
   "cell_type": "markdown",
   "metadata": {},
   "source": [
    "NN 2"
   ]
  },
  {
   "cell_type": "code",
   "execution_count": 165,
   "metadata": {
    "ExecuteTime": {
     "end_time": "2024-04-10T12:30:26.601111Z",
     "start_time": "2024-04-10T12:30:26.587743Z"
    }
   },
   "outputs": [],
   "source": [
    "class ANN(nn.Module):\n",
    "\n",
    "    def __init__(self):\n",
    "\n",
    "        super(ANN,self).__init__()\n",
    "\n",
    "        # Linear function 1\n",
    "        self.linear1 = nn.Linear(2,64) # 18 to 10\n",
    "        self.tanh1 = nn.Tanh()\n",
    "\n",
    "        # Linear function 2\n",
    "        self.linear2 = nn.Linear(64,64) # 10 to 6\n",
    "        self.tanh2 = nn.Tanh()\n",
    "\n",
    "        # Linear function 3\n",
    "        self.linear3 = nn.Linear(64,1) # 6 to output\n",
    "\n",
    "\n",
    "    def forward(self,x):\n",
    "\n",
    "        out = self.linear1(x)\n",
    "        out = self.tanh1(out)\n",
    "\n",
    "        out = self.linear2(out)\n",
    "        out = self.tanh2(out)\n",
    "\n",
    "        out = self.linear3(out)\n",
    "        return out\n",
    "\n",
    "\n",
    "model = ANN()"
   ]
  },
  {
   "cell_type": "code",
   "execution_count": 166,
   "metadata": {
    "ExecuteTime": {
     "end_time": "2024-04-10T12:30:28.603890Z",
     "start_time": "2024-04-10T12:30:28.593133Z"
    }
   },
   "outputs": [],
   "source": [
    "optimizer = torch.optim.Adam(model.parameters(),lr=0.01)\n",
    "error = nn.CrossEntropyLoss()"
   ]
  },
  {
   "cell_type": "code",
   "execution_count": 167,
   "metadata": {
    "ExecuteTime": {
     "end_time": "2024-04-10T12:30:29.794614Z",
     "start_time": "2024-04-10T12:30:29.779852Z"
    }
   },
   "outputs": [],
   "source": [
    "x_train = torch.Tensor(X_train)\n",
    "x_test = torch.Tensor(X_test)\n",
    "y_train = torch.Tensor(y_train).type(torch.LongTensor)"
   ]
  },
  {
   "cell_type": "code",
   "execution_count": 168,
   "metadata": {
    "ExecuteTime": {
     "end_time": "2024-04-10T12:30:30.814290Z",
     "start_time": "2024-04-10T12:30:30.802976Z"
    }
   },
   "outputs": [
    {
     "data": {
      "text/plain": [
       "torch.Size([72, 2])"
      ]
     },
     "execution_count": 168,
     "metadata": {},
     "output_type": "execute_result"
    }
   ],
   "source": [
    "x_train.shape"
   ]
  },
  {
   "cell_type": "code",
   "execution_count": 171,
   "metadata": {
    "ExecuteTime": {
     "end_time": "2024-04-10T12:30:53.114068Z",
     "start_time": "2024-04-10T12:30:53.106190Z"
    }
   },
   "outputs": [
    {
     "data": {
      "text/plain": [
       "torch.Size([72])"
      ]
     },
     "execution_count": 171,
     "metadata": {},
     "output_type": "execute_result"
    }
   ],
   "source": [
    "y_train.shape"
   ]
  },
  {
   "cell_type": "code",
   "execution_count": 173,
   "metadata": {
    "ExecuteTime": {
     "end_time": "2024-04-10T12:31:06.145810Z",
     "start_time": "2024-04-10T12:31:06.140155Z"
    }
   },
   "outputs": [
    {
     "data": {
      "text/plain": [
       "torch.Size([72, 1])"
      ]
     },
     "execution_count": 173,
     "metadata": {},
     "output_type": "execute_result"
    }
   ],
   "source": [
    "outs.shape"
   ]
  },
  {
   "cell_type": "code",
   "execution_count": 169,
   "metadata": {
    "ExecuteTime": {
     "end_time": "2024-04-10T12:30:31.791860Z",
     "start_time": "2024-04-10T12:30:31.759932Z"
    }
   },
   "outputs": [
    {
     "ename": "IndexError",
     "evalue": "Target 63 is out of bounds.",
     "output_type": "error",
     "traceback": [
      "\u001b[1;31m---------------------------------------------------------------------------\u001b[0m",
      "\u001b[1;31mIndexError\u001b[0m                                Traceback (most recent call last)",
      "\u001b[1;32m~\\AppData\\Local\\Temp\\ipykernel_10012\\1434445490.py\u001b[0m in \u001b[0;36m<module>\u001b[1;34m\u001b[0m\n\u001b[0;32m      9\u001b[0m \u001b[1;33m\u001b[0m\u001b[0m\n\u001b[0;32m     10\u001b[0m     \u001b[1;31m# Computing loss\u001b[0m\u001b[1;33m\u001b[0m\u001b[1;33m\u001b[0m\u001b[0m\n\u001b[1;32m---> 11\u001b[1;33m     \u001b[0mloss\u001b[0m \u001b[1;33m=\u001b[0m \u001b[0merror\u001b[0m\u001b[1;33m(\u001b[0m\u001b[0mouts\u001b[0m\u001b[1;33m,\u001b[0m\u001b[0my_train\u001b[0m\u001b[1;33m)\u001b[0m\u001b[1;33m\u001b[0m\u001b[1;33m\u001b[0m\u001b[0m\n\u001b[0m\u001b[0;32m     12\u001b[0m \u001b[1;33m\u001b[0m\u001b[0m\n\u001b[0;32m     13\u001b[0m     \u001b[1;31m# Backward propagation\u001b[0m\u001b[1;33m\u001b[0m\u001b[1;33m\u001b[0m\u001b[0m\n",
      "\u001b[1;32m~\\Anaconda3\\lib\\site-packages\\torch\\nn\\modules\\module.py\u001b[0m in \u001b[0;36m_call_impl\u001b[1;34m(self, *args, **kwargs)\u001b[0m\n\u001b[0;32m   1499\u001b[0m                 \u001b[1;32mor\u001b[0m \u001b[0m_global_backward_pre_hooks\u001b[0m \u001b[1;32mor\u001b[0m \u001b[0m_global_backward_hooks\u001b[0m\u001b[1;33m\u001b[0m\u001b[1;33m\u001b[0m\u001b[0m\n\u001b[0;32m   1500\u001b[0m                 or _global_forward_hooks or _global_forward_pre_hooks):\n\u001b[1;32m-> 1501\u001b[1;33m             \u001b[1;32mreturn\u001b[0m \u001b[0mforward_call\u001b[0m\u001b[1;33m(\u001b[0m\u001b[1;33m*\u001b[0m\u001b[0margs\u001b[0m\u001b[1;33m,\u001b[0m \u001b[1;33m**\u001b[0m\u001b[0mkwargs\u001b[0m\u001b[1;33m)\u001b[0m\u001b[1;33m\u001b[0m\u001b[1;33m\u001b[0m\u001b[0m\n\u001b[0m\u001b[0;32m   1502\u001b[0m         \u001b[1;31m# Do not call functions when jit is used\u001b[0m\u001b[1;33m\u001b[0m\u001b[1;33m\u001b[0m\u001b[0m\n\u001b[0;32m   1503\u001b[0m         \u001b[0mfull_backward_hooks\u001b[0m\u001b[1;33m,\u001b[0m \u001b[0mnon_full_backward_hooks\u001b[0m \u001b[1;33m=\u001b[0m \u001b[1;33m[\u001b[0m\u001b[1;33m]\u001b[0m\u001b[1;33m,\u001b[0m \u001b[1;33m[\u001b[0m\u001b[1;33m]\u001b[0m\u001b[1;33m\u001b[0m\u001b[1;33m\u001b[0m\u001b[0m\n",
      "\u001b[1;32m~\\Anaconda3\\lib\\site-packages\\torch\\nn\\modules\\loss.py\u001b[0m in \u001b[0;36mforward\u001b[1;34m(self, input, target)\u001b[0m\n\u001b[0;32m   1172\u001b[0m \u001b[1;33m\u001b[0m\u001b[0m\n\u001b[0;32m   1173\u001b[0m     \u001b[1;32mdef\u001b[0m \u001b[0mforward\u001b[0m\u001b[1;33m(\u001b[0m\u001b[0mself\u001b[0m\u001b[1;33m,\u001b[0m \u001b[0minput\u001b[0m\u001b[1;33m:\u001b[0m \u001b[0mTensor\u001b[0m\u001b[1;33m,\u001b[0m \u001b[0mtarget\u001b[0m\u001b[1;33m:\u001b[0m \u001b[0mTensor\u001b[0m\u001b[1;33m)\u001b[0m \u001b[1;33m->\u001b[0m \u001b[0mTensor\u001b[0m\u001b[1;33m:\u001b[0m\u001b[1;33m\u001b[0m\u001b[1;33m\u001b[0m\u001b[0m\n\u001b[1;32m-> 1174\u001b[1;33m         return F.cross_entropy(input, target, weight=self.weight,\n\u001b[0m\u001b[0;32m   1175\u001b[0m                                \u001b[0mignore_index\u001b[0m\u001b[1;33m=\u001b[0m\u001b[0mself\u001b[0m\u001b[1;33m.\u001b[0m\u001b[0mignore_index\u001b[0m\u001b[1;33m,\u001b[0m \u001b[0mreduction\u001b[0m\u001b[1;33m=\u001b[0m\u001b[0mself\u001b[0m\u001b[1;33m.\u001b[0m\u001b[0mreduction\u001b[0m\u001b[1;33m,\u001b[0m\u001b[1;33m\u001b[0m\u001b[1;33m\u001b[0m\u001b[0m\n\u001b[0;32m   1176\u001b[0m                                label_smoothing=self.label_smoothing)\n",
      "\u001b[1;32m~\\Anaconda3\\lib\\site-packages\\torch\\nn\\functional.py\u001b[0m in \u001b[0;36mcross_entropy\u001b[1;34m(input, target, weight, size_average, ignore_index, reduce, reduction, label_smoothing)\u001b[0m\n\u001b[0;32m   3027\u001b[0m     \u001b[1;32mif\u001b[0m \u001b[0msize_average\u001b[0m \u001b[1;32mis\u001b[0m \u001b[1;32mnot\u001b[0m \u001b[1;32mNone\u001b[0m \u001b[1;32mor\u001b[0m \u001b[0mreduce\u001b[0m \u001b[1;32mis\u001b[0m \u001b[1;32mnot\u001b[0m \u001b[1;32mNone\u001b[0m\u001b[1;33m:\u001b[0m\u001b[1;33m\u001b[0m\u001b[1;33m\u001b[0m\u001b[0m\n\u001b[0;32m   3028\u001b[0m         \u001b[0mreduction\u001b[0m \u001b[1;33m=\u001b[0m \u001b[0m_Reduction\u001b[0m\u001b[1;33m.\u001b[0m\u001b[0mlegacy_get_string\u001b[0m\u001b[1;33m(\u001b[0m\u001b[0msize_average\u001b[0m\u001b[1;33m,\u001b[0m \u001b[0mreduce\u001b[0m\u001b[1;33m)\u001b[0m\u001b[1;33m\u001b[0m\u001b[1;33m\u001b[0m\u001b[0m\n\u001b[1;32m-> 3029\u001b[1;33m     \u001b[1;32mreturn\u001b[0m \u001b[0mtorch\u001b[0m\u001b[1;33m.\u001b[0m\u001b[0m_C\u001b[0m\u001b[1;33m.\u001b[0m\u001b[0m_nn\u001b[0m\u001b[1;33m.\u001b[0m\u001b[0mcross_entropy_loss\u001b[0m\u001b[1;33m(\u001b[0m\u001b[0minput\u001b[0m\u001b[1;33m,\u001b[0m \u001b[0mtarget\u001b[0m\u001b[1;33m,\u001b[0m \u001b[0mweight\u001b[0m\u001b[1;33m,\u001b[0m \u001b[0m_Reduction\u001b[0m\u001b[1;33m.\u001b[0m\u001b[0mget_enum\u001b[0m\u001b[1;33m(\u001b[0m\u001b[0mreduction\u001b[0m\u001b[1;33m)\u001b[0m\u001b[1;33m,\u001b[0m \u001b[0mignore_index\u001b[0m\u001b[1;33m,\u001b[0m \u001b[0mlabel_smoothing\u001b[0m\u001b[1;33m)\u001b[0m\u001b[1;33m\u001b[0m\u001b[1;33m\u001b[0m\u001b[0m\n\u001b[0m\u001b[0;32m   3030\u001b[0m \u001b[1;33m\u001b[0m\u001b[0m\n\u001b[0;32m   3031\u001b[0m \u001b[1;33m\u001b[0m\u001b[0m\n",
      "\u001b[1;31mIndexError\u001b[0m: Target 63 is out of bounds."
     ]
    }
   ],
   "source": [
    "epochs = 200\n",
    "for epoch in range(epochs):\n",
    "\n",
    "    # Clearing gradients\n",
    "    optimizer.zero_grad()\n",
    "\n",
    "    # Forward propagation\n",
    "    outs = model(x_train)\n",
    "\n",
    "    # Computing loss\n",
    "    loss = error(outs,y_train)\n",
    "\n",
    "    # Backward propagation\n",
    "    loss.backward()\n",
    "\n",
    "    # Updating parameters\n",
    "    optimizer.step()\n",
    "\n",
    "    if epoch%50 == 0:\n",
    "        print(f\"Cost after iteration {epoch} is {loss}\")"
   ]
  },
  {
   "cell_type": "code",
   "execution_count": 137,
   "metadata": {
    "ExecuteTime": {
     "end_time": "2024-04-10T12:25:52.405103Z",
     "start_time": "2024-04-10T12:25:52.394531Z"
    }
   },
   "outputs": [
    {
     "name": "stdout",
     "output_type": "stream",
     "text": [
      "Mean Squared Error on Test Data: 308.2619\n"
     ]
    }
   ],
   "source": [
    "# Оценка качества модели\n",
    "with torch.no_grad():\n",
    "    inputs = torch.autograd.Variable(torch.Tensor(X_test).float())\n",
    "    targets = torch.autograd.Variable(torch.Tensor(y_test).float())\n",
    "    outputs = model(inputs)\n",
    "    mse = criterion(outputs, targets.view(-1,1))\n",
    "    print(f'Mean Squared Error on Test Data: {mse.item():.4f}')"
   ]
  },
  {
   "cell_type": "code",
   "execution_count": 138,
   "metadata": {
    "ExecuteTime": {
     "end_time": "2024-04-10T12:25:52.979450Z",
     "start_time": "2024-04-10T12:25:52.963634Z"
    }
   },
   "outputs": [
    {
     "data": {
      "text/plain": [
       "(18,)"
      ]
     },
     "execution_count": 138,
     "metadata": {},
     "output_type": "execute_result"
    }
   ],
   "source": [
    "y_test.shape"
   ]
  },
  {
   "cell_type": "code",
   "execution_count": 139,
   "metadata": {
    "ExecuteTime": {
     "end_time": "2024-04-10T12:25:54.348944Z",
     "start_time": "2024-04-10T12:25:54.333821Z"
    }
   },
   "outputs": [
    {
     "name": "stdout",
     "output_type": "stream",
     "text": [
      "    Actual_FIN  Predicted_FIN\n",
      "0           20      25.141369\n",
      "1           10      37.039448\n",
      "2           55      50.903511\n",
      "3           55      50.903511\n",
      "4           36      49.948898\n",
      "5            0      -4.363276\n",
      "6           40      43.105579\n",
      "7           87      53.367474\n",
      "8           62      38.632488\n",
      "9           30      42.852478\n",
      "10          28      31.733746\n",
      "11          38      47.469582\n",
      "12           0      -5.129547\n",
      "13          25      41.831257\n",
      "14          80      57.343349\n",
      "15          10      38.331024\n",
      "16          88      57.343349\n",
      "17          43      47.789581\n"
     ]
    }
   ],
   "source": [
    "predicted_values = outputs.detach().numpy().flatten()\n",
    "# Создание DataFrame для сравнения фактических и предсказанных значений\n",
    "comparison_df = pd.DataFrame({'Actual_FIN': y_test, 'Predicted_FIN': predicted_values})\n",
    "\n",
    "# Вывод таблицы сравнения\n",
    "print(comparison_df)\n"
   ]
  },
  {
   "cell_type": "markdown",
   "metadata": {},
   "source": [
    "ML"
   ]
  },
  {
   "cell_type": "code",
   "execution_count": 176,
   "metadata": {
    "ExecuteTime": {
     "end_time": "2024-04-11T05:16:42.096620Z",
     "start_time": "2024-04-11T05:16:41.903585Z"
    }
   },
   "outputs": [
    {
     "name": "stdout",
     "output_type": "stream",
     "text": [
      "Mean Squared Error on Test Data: 376.12468889299936\n"
     ]
    }
   ],
   "source": [
    "import xgboost as xgb\n",
    "from sklearn.model_selection import train_test_split\n",
    "from sklearn.metrics import mean_squared_error\n",
    "\n",
    "# Подготовка данных\n",
    "X = df[[\"Course Absence Rate\", \"PF\"]].values\n",
    "y = df[\"FIN\"].values\n",
    "\n",
    "# Разделение данных на обучающий и тестовый наборы\n",
    "X_train, X_test, y_train, y_test = train_test_split(X, y, test_size=0.2, random_state=42)\n",
    "\n",
    "# Создание и обучение модели градиентного бустинга\n",
    "model_xgb = xgb.XGBRegressor()\n",
    "model_xgb.fit(X_train, y_train)\n",
    "\n",
    "# Предсказание на тестовом наборе данных\n",
    "y_pred = model_xgb.predict(X_test)\n",
    "\n",
    "# Оценка качества модели\n",
    "mse = mean_squared_error(y_test, y_pred)\n",
    "print(\"Mean Squared Error on Test Data:\", mse)\n"
   ]
  },
  {
   "cell_type": "code",
   "execution_count": null,
   "metadata": {},
   "outputs": [],
   "source": []
  },
  {
   "cell_type": "code",
   "execution_count": null,
   "metadata": {},
   "outputs": [],
   "source": []
  },
  {
   "cell_type": "code",
   "execution_count": 43,
   "metadata": {
    "ExecuteTime": {
     "end_time": "2024-04-10T11:27:45.650974Z",
     "start_time": "2024-04-10T11:27:45.639054Z"
    }
   },
   "outputs": [],
   "source": [
    "# Вычисление предсказанных значений на тестовом наборе данных\n",
    "predicted = outputs.numpy().flatten()\n",
    "actual = y_test"
   ]
  },
  {
   "cell_type": "code",
   "execution_count": 44,
   "metadata": {
    "ExecuteTime": {
     "end_time": "2024-04-10T11:27:46.556657Z",
     "start_time": "2024-04-10T11:27:46.351574Z"
    }
   },
   "outputs": [
    {
     "data": {
      "image/png": "[encoded data removed]",
      "text/plain": [
       "<Figure size 1000x600 with 1 Axes>"
      ]
     },
     "metadata": {},
     "output_type": "display_data"
    }
   ],
   "source": [
    "# Визуализация предсказанных и фактических значений FIN\n",
    "plt.figure(figsize=(10, 6))\n",
    "plt.scatter(actual, predicted, color='blue')\n",
    "plt.xlabel('Actual FIN')\n",
    "plt.ylabel('Predicted FIN')\n",
    "plt.title('Actual vs Predicted FIN')\n",
    "plt.show()"
   ]
  },
  {
   "cell_type": "code",
   "execution_count": 45,
   "metadata": {
    "ExecuteTime": {
     "end_time": "2024-04-10T11:27:49.291851Z",
     "start_time": "2024-04-10T11:27:49.157993Z"
    }
   },
   "outputs": [
    {
     "data": {
      "image/png": "[encoded data removed]",
      "text/plain": [
       "<Figure size 1000x600 with 1 Axes>"
      ]
     },
     "metadata": {},
     "output_type": "display_data"
    }
   ],
   "source": [
    "# Вычисление остатков\n",
    "residuals = actual - predicted\n",
    "\n",
    "# Визуализация распределения остатков\n",
    "plt.figure(figsize=(10, 6))\n",
    "plt.hist(residuals, bins=20, color='green', alpha=0.7)\n",
    "plt.xlabel('Residuals')\n",
    "plt.ylabel('Frequency')\n",
    "plt.title('Distribution of Residuals')\n",
    "plt.show()"
   ]
  },
  {
   "cell_type": "code",
   "execution_count": 46,
   "metadata": {
    "ExecuteTime": {
     "end_time": "2024-04-10T11:27:49.462931Z",
     "start_time": "2024-04-10T11:27:49.448037Z"
    }
   },
   "outputs": [
    {
     "name": "stdout",
     "output_type": "stream",
     "text": [
      "R-squared: 0.6562\n"
     ]
    }
   ],
   "source": [
    "# Вычисление коэффициента детерминации (R^2)\n",
    "SS_res = np.sum(residuals**2)\n",
    "SS_tot = np.sum((actual - np.mean(actual))**2)\n",
    "r_squared = 1 - (SS_res / SS_tot)\n",
    "print(f'R-squared: {r_squared:.4f}')"
   ]
  },
  {
   "cell_type": "code",
   "execution_count": 47,
   "metadata": {
    "ExecuteTime": {
     "end_time": "2024-04-10T11:27:49.788192Z",
     "start_time": "2024-04-10T11:27:49.651527Z"
    }
   },
   "outputs": [
    {
     "data": {
      "image/png": "[encoded data removed]",
      "text/plain": [
       "<Figure size 1000x600 with 1 Axes>"
      ]
     },
     "metadata": {},
     "output_type": "display_data"
    }
   ],
   "source": [
    "# Визуализация предсказанных и фактических значений FIN с добавлением линии\n",
    "plt.figure(figsize=(10, 6))\n",
    "plt.scatter(actual, predicted, color='blue')\n",
    "plt.plot(actual, actual, color='red', linestyle='--')  # добавляем линию идеальных предсказаний\n",
    "plt.xlabel('Actual FIN')\n",
    "plt.ylabel('Predicted FIN')\n",
    "plt.title('Actual vs Predicted FIN')\n",
    "plt.show()"
   ]
  },
  {
   "cell_type": "code",
   "execution_count": 48,
   "metadata": {
    "ExecuteTime": {
     "end_time": "2024-04-10T11:27:50.634234Z",
     "start_time": "2024-04-10T11:27:50.626775Z"
    }
   },
   "outputs": [],
   "source": [
    "# Применение логарифмического преобразования к предсказанным и фактическим значениям\n",
    "actual_log = np.log(actual + 1)  # добавляем 1, чтобы избежать деления на ноль\n",
    "predicted_log = np.log(predicted + 1)  # добавляем 1, чтобы избежать деления на ноль"
   ]
  },
  {
   "cell_type": "code",
   "execution_count": 49,
   "metadata": {
    "ExecuteTime": {
     "end_time": "2024-04-10T11:27:52.176874Z",
     "start_time": "2024-04-10T11:27:52.167888Z"
    }
   },
   "outputs": [],
   "source": [
    "# Вычисление остатков для преобразованных значений\n",
    "residuals_log = actual_log - predicted_log"
   ]
  },
  {
   "cell_type": "code",
   "execution_count": 50,
   "metadata": {
    "ExecuteTime": {
     "end_time": "2024-04-10T11:27:52.566531Z",
     "start_time": "2024-04-10T11:27:52.382313Z"
    }
   },
   "outputs": [
    {
     "data": {
      "image/png": "[encoded data removed]",
      "text/plain": [
       "<Figure size 1000x600 with 1 Axes>"
      ]
     },
     "metadata": {},
     "output_type": "display_data"
    }
   ],
   "source": [
    "# Визуализация распределения остатков с применением логарифмического преобразования\n",
    "plt.figure(figsize=(10, 6))\n",
    "plt.hist(residuals_log, bins=20, color='green', alpha=0.7)\n",
    "plt.xlabel('Residuals (log)')\n",
    "plt.ylabel('Frequency')\n",
    "plt.title('Distribution of Residuals (log)')\n",
    "plt.show()"
   ]
  },
  {
   "cell_type": "code",
   "execution_count": 51,
   "metadata": {
    "ExecuteTime": {
     "end_time": "2024-04-10T11:27:52.598257Z",
     "start_time": "2024-04-10T11:27:52.586988Z"
    }
   },
   "outputs": [
    {
     "name": "stdout",
     "output_type": "stream",
     "text": [
      "R-squared (log transformed): 0.8469\n"
     ]
    }
   ],
   "source": [
    "# Вычисление коэффициента детерминации (R^2) для логарифмических значений\n",
    "SS_res_log = np.sum(residuals_log**2)\n",
    "SS_tot_log = np.sum((actual_log - np.mean(actual_log))**2)\n",
    "r_squared_log = 1 - (SS_res_log / SS_tot_log)\n",
    "print(f'R-squared (log transformed): {r_squared_log:.4f}')"
   ]
  },
  {
   "cell_type": "markdown",
   "metadata": {},
   "source": [
    "New Data 2"
   ]
  },
  {
   "cell_type": "code",
   "execution_count": 178,
   "metadata": {
    "ExecuteTime": {
     "end_time": "2024-04-11T09:41:05.612694Z",
     "start_time": "2024-04-11T09:41:05.585092Z"
    }
   },
   "outputs": [],
   "source": [
    "ABS_PERC2 = [\n",
    "    17.0,\n",
    "    19.0, \n",
    "    21.0,\n",
    "    24.0,\n",
    "    21.0,\n",
    "    29.0,\n",
    "    5.0,\n",
    "    26.0,\n",
    "    0.0,\n",
    "    24.0,\n",
    "    10.0,\n",
    "    7.0,\n",
    "    21.0,\n",
    "    0.0,\n",
    "    0.0,\n",
    "    0.0,\n",
    "    50.0,\n",
    "    7.0,\n",
    "    7.0,\n",
    "    2.0,\n",
    "    10.0,\n",
    "    26.0,\n",
    "    26.0,\n",
    "    29.0,\n",
    "    0.0,\n",
    "    5.0,\n",
    "    5.0,\n",
    "    14.0,\n",
    "    29.0,\n",
    "    21.0,\n",
    "    12.0,\n",
    "    14.0,\n",
    "    26.0,\n",
    "    7.0,\n",
    "    10.0,\n",
    "    36.0\n",
    "]\n",
    "\n",
    "PF2 = [\n",
    "    21,\n",
    "    7,\n",
    "    70,\n",
    "    83,\n",
    "    100,\n",
    "    82,\n",
    "    80,\n",
    "    82,\n",
    "    100,\n",
    "    7,\n",
    "    100,\n",
    "    100,\n",
    "    95,\n",
    "    73,\n",
    "    92,\n",
    "    100,\n",
    "    'failed',\n",
    "    95,\n",
    "    100,\n",
    "    88,\n",
    "    93,\n",
    "    100,\n",
    "    7,\n",
    "    53,\n",
    "    100,\n",
    "    75,\n",
    "    73,\n",
    "    92,\n",
    "    100,\n",
    "    100,\n",
    "    100,\n",
    "    100,\n",
    "    58,\n",
    "    67,\n",
    "    90,\n",
    "    'failed'\n",
    "]\n",
    "\n",
    "FINAL2 = [\n",
    "    'abs',\n",
    "    np.nan,\n",
    "    10,\n",
    "    40,\n",
    "    33,\n",
    "    55,\n",
    "    45,\n",
    "    10,\n",
    "    95,\n",
    "    np.nan,\n",
    "    65,\n",
    "    55,\n",
    "    25,\n",
    "    65,\n",
    "    28,\n",
    "    74,\n",
    "    'failed',\n",
    "    38,\n",
    "    33,\n",
    "    15,\n",
    "    53,\n",
    "    50,\n",
    "    np.nan,\n",
    "    48,\n",
    "    37,\n",
    "    30,\n",
    "    35,\n",
    "    8,\n",
    "    30,\n",
    "    48,\n",
    "    45,\n",
    "    53,\n",
    "    10,\n",
    "    0,\n",
    "    40,\n",
    "    'failed'\n",
    "]\n",
    "\n",
    "RE2 = [\n",
    "    np.nan,\n",
    "    np.nan,\n",
    "    np.nan,\n",
    "    np.nan,\n",
    "    np.nan,\n",
    "    np.nan,\n",
    "    np.nan,\n",
    "    np.nan,\n",
    "    np.nan,\n",
    "    np.nan,\n",
    "    np.nan,\n",
    "    np.nan,\n",
    "    np.nan,\n",
    "    np.nan,\n",
    "    np.nan,\n",
    "    np.nan,\n",
    "    'failed',\n",
    "    np.nan,\n",
    "    np.nan,\n",
    "    np.nan,\n",
    "    np.nan,\n",
    "    np.nan,\n",
    "    np.nan,\n",
    "    np.nan,\n",
    "    np.nan,\n",
    "    np.nan,\n",
    "    np.nan,\n",
    "    np.nan,\n",
    "    np.nan,\n",
    "    np.nan,\n",
    "    np.nan,\n",
    "    np.nan,\n",
    "    40,\n",
    "    np.nan,\n",
    "    np.nan,\n",
    "    'failed',\n",
    "]\n",
    "\n",
    "AVG2 = [\n",
    "    0,\n",
    "    4,\n",
    "    46,\n",
    "    66,\n",
    "    73,\n",
    "    71,\n",
    "    66,\n",
    "    53,\n",
    "    98,\n",
    "    4,\n",
    "    86,\n",
    "    82,\n",
    "    67,\n",
    "    70,\n",
    "    66,\n",
    "    90,\n",
    "    0,\n",
    "    72,\n",
    "    73,\n",
    "    59,\n",
    "    77,\n",
    "    80,\n",
    "    4,\n",
    "    51,\n",
    "    75,\n",
    "    57,\n",
    "    58,\n",
    "    58,\n",
    "    72,\n",
    "    79,\n",
    "    78,\n",
    "    81,\n",
    "    51,\n",
    "    40,\n",
    "    70,\n",
    "    0,\n",
    "]\n",
    "\n",
    "LG2 = [\n",
    "    'F',\n",
    "    'F',\n",
    "    'FX',\n",
    "    'C',\n",
    "    'C+',\n",
    "    'C+',\n",
    "    'C',\n",
    "    'D',\n",
    "    'A',\n",
    "    'F',\n",
    "    'B+',\n",
    "    'B',\n",
    "    'C',\n",
    "    'C+',\n",
    "    'C',\n",
    "    'A-',\n",
    "    'F',\n",
    "    'C+',\n",
    "    'C+',\n",
    "    'D+',\n",
    "    'B-',\n",
    "    'B',\n",
    "    'F',\n",
    "    'D',\n",
    "    'B-',\n",
    "    'D+',\n",
    "    'D+',\n",
    "    'D+',\n",
    "    'C+',\n",
    "    'B-',\n",
    "    'B-',\n",
    "    'B',\n",
    "    'D',\n",
    "    'FX',\n",
    "    'C+',\n",
    "    'F'\n",
    "]"
   ]
  },
  {
   "cell_type": "code",
   "execution_count": 179,
   "metadata": {
    "ExecuteTime": {
     "end_time": "2024-04-11T09:41:05.813418Z",
     "start_time": "2024-04-11T09:41:05.799196Z"
    }
   },
   "outputs": [],
   "source": [
    "df2 = pd.DataFrame({\n",
    "    'Course Absence Rate': ABS_PERC2,\n",
    "    'PF': PF2,\n",
    "    'FIN': FINAL2,\n",
    "    'RE': RE2,\n",
    "    'AVG': AVG2,\n",
    "    'LG': LG2\n",
    "})"
   ]
  },
  {
   "cell_type": "code",
   "execution_count": 180,
   "metadata": {
    "ExecuteTime": {
     "end_time": "2024-04-11T09:41:06.120408Z",
     "start_time": "2024-04-11T09:41:06.103410Z"
    }
   },
   "outputs": [
    {
     "data": {
      "text/html": [
       "<div>\n",
       "<style scoped>\n",
       "    .dataframe tbody tr th:only-of-type {\n",
       "        vertical-align: middle;\n",
       "    }\n",
       "\n",
       "    .dataframe tbody tr th {\n",
       "        vertical-align: top;\n",
       "    }\n",
       "\n",
       "    .dataframe thead th {\n",
       "        text-align: right;\n",
       "    }\n",
       "</style>\n",
       "<table border=\"1\" class=\"dataframe\">\n",
       "  <thead>\n",
       "    <tr style=\"text-align: right;\">\n",
       "      <th></th>\n",
       "      <th>Course Absence Rate</th>\n",
       "      <th>PF</th>\n",
       "      <th>FIN</th>\n",
       "      <th>RE</th>\n",
       "      <th>AVG</th>\n",
       "      <th>LG</th>\n",
       "    </tr>\n",
       "  </thead>\n",
       "  <tbody>\n",
       "    <tr>\n",
       "      <th>0</th>\n",
       "      <td>17.0</td>\n",
       "      <td>21</td>\n",
       "      <td>abs</td>\n",
       "      <td>NaN</td>\n",
       "      <td>0</td>\n",
       "      <td>F</td>\n",
       "    </tr>\n",
       "    <tr>\n",
       "      <th>1</th>\n",
       "      <td>19.0</td>\n",
       "      <td>7</td>\n",
       "      <td>NaN</td>\n",
       "      <td>NaN</td>\n",
       "      <td>4</td>\n",
       "      <td>F</td>\n",
       "    </tr>\n",
       "    <tr>\n",
       "      <th>2</th>\n",
       "      <td>21.0</td>\n",
       "      <td>70</td>\n",
       "      <td>10</td>\n",
       "      <td>NaN</td>\n",
       "      <td>46</td>\n",
       "      <td>FX</td>\n",
       "    </tr>\n",
       "    <tr>\n",
       "      <th>3</th>\n",
       "      <td>24.0</td>\n",
       "      <td>83</td>\n",
       "      <td>40</td>\n",
       "      <td>NaN</td>\n",
       "      <td>66</td>\n",
       "      <td>C</td>\n",
       "    </tr>\n",
       "    <tr>\n",
       "      <th>4</th>\n",
       "      <td>21.0</td>\n",
       "      <td>100</td>\n",
       "      <td>33</td>\n",
       "      <td>NaN</td>\n",
       "      <td>73</td>\n",
       "      <td>C+</td>\n",
       "    </tr>\n",
       "    <tr>\n",
       "      <th>5</th>\n",
       "      <td>29.0</td>\n",
       "      <td>82</td>\n",
       "      <td>55</td>\n",
       "      <td>NaN</td>\n",
       "      <td>71</td>\n",
       "      <td>C+</td>\n",
       "    </tr>\n",
       "    <tr>\n",
       "      <th>6</th>\n",
       "      <td>5.0</td>\n",
       "      <td>80</td>\n",
       "      <td>45</td>\n",
       "      <td>NaN</td>\n",
       "      <td>66</td>\n",
       "      <td>C</td>\n",
       "    </tr>\n",
       "    <tr>\n",
       "      <th>7</th>\n",
       "      <td>26.0</td>\n",
       "      <td>82</td>\n",
       "      <td>10</td>\n",
       "      <td>NaN</td>\n",
       "      <td>53</td>\n",
       "      <td>D</td>\n",
       "    </tr>\n",
       "    <tr>\n",
       "      <th>8</th>\n",
       "      <td>0.0</td>\n",
       "      <td>100</td>\n",
       "      <td>95</td>\n",
       "      <td>NaN</td>\n",
       "      <td>98</td>\n",
       "      <td>A</td>\n",
       "    </tr>\n",
       "    <tr>\n",
       "      <th>9</th>\n",
       "      <td>24.0</td>\n",
       "      <td>7</td>\n",
       "      <td>NaN</td>\n",
       "      <td>NaN</td>\n",
       "      <td>4</td>\n",
       "      <td>F</td>\n",
       "    </tr>\n",
       "    <tr>\n",
       "      <th>10</th>\n",
       "      <td>10.0</td>\n",
       "      <td>100</td>\n",
       "      <td>65</td>\n",
       "      <td>NaN</td>\n",
       "      <td>86</td>\n",
       "      <td>B+</td>\n",
       "    </tr>\n",
       "    <tr>\n",
       "      <th>11</th>\n",
       "      <td>7.0</td>\n",
       "      <td>100</td>\n",
       "      <td>55</td>\n",
       "      <td>NaN</td>\n",
       "      <td>82</td>\n",
       "      <td>B</td>\n",
       "    </tr>\n",
       "    <tr>\n",
       "      <th>12</th>\n",
       "      <td>21.0</td>\n",
       "      <td>95</td>\n",
       "      <td>25</td>\n",
       "      <td>NaN</td>\n",
       "      <td>67</td>\n",
       "      <td>C</td>\n",
       "    </tr>\n",
       "    <tr>\n",
       "      <th>13</th>\n",
       "      <td>0.0</td>\n",
       "      <td>73</td>\n",
       "      <td>65</td>\n",
       "      <td>NaN</td>\n",
       "      <td>70</td>\n",
       "      <td>C+</td>\n",
       "    </tr>\n",
       "    <tr>\n",
       "      <th>14</th>\n",
       "      <td>0.0</td>\n",
       "      <td>92</td>\n",
       "      <td>28</td>\n",
       "      <td>NaN</td>\n",
       "      <td>66</td>\n",
       "      <td>C</td>\n",
       "    </tr>\n",
       "    <tr>\n",
       "      <th>15</th>\n",
       "      <td>0.0</td>\n",
       "      <td>100</td>\n",
       "      <td>74</td>\n",
       "      <td>NaN</td>\n",
       "      <td>90</td>\n",
       "      <td>A-</td>\n",
       "    </tr>\n",
       "    <tr>\n",
       "      <th>16</th>\n",
       "      <td>50.0</td>\n",
       "      <td>failed</td>\n",
       "      <td>failed</td>\n",
       "      <td>failed</td>\n",
       "      <td>0</td>\n",
       "      <td>F</td>\n",
       "    </tr>\n",
       "    <tr>\n",
       "      <th>17</th>\n",
       "      <td>7.0</td>\n",
       "      <td>95</td>\n",
       "      <td>38</td>\n",
       "      <td>NaN</td>\n",
       "      <td>72</td>\n",
       "      <td>C+</td>\n",
       "    </tr>\n",
       "    <tr>\n",
       "      <th>18</th>\n",
       "      <td>7.0</td>\n",
       "      <td>100</td>\n",
       "      <td>33</td>\n",
       "      <td>NaN</td>\n",
       "      <td>73</td>\n",
       "      <td>C+</td>\n",
       "    </tr>\n",
       "    <tr>\n",
       "      <th>19</th>\n",
       "      <td>2.0</td>\n",
       "      <td>88</td>\n",
       "      <td>15</td>\n",
       "      <td>NaN</td>\n",
       "      <td>59</td>\n",
       "      <td>D+</td>\n",
       "    </tr>\n",
       "    <tr>\n",
       "      <th>20</th>\n",
       "      <td>10.0</td>\n",
       "      <td>93</td>\n",
       "      <td>53</td>\n",
       "      <td>NaN</td>\n",
       "      <td>77</td>\n",
       "      <td>B-</td>\n",
       "    </tr>\n",
       "    <tr>\n",
       "      <th>21</th>\n",
       "      <td>26.0</td>\n",
       "      <td>100</td>\n",
       "      <td>50</td>\n",
       "      <td>NaN</td>\n",
       "      <td>80</td>\n",
       "      <td>B</td>\n",
       "    </tr>\n",
       "    <tr>\n",
       "      <th>22</th>\n",
       "      <td>26.0</td>\n",
       "      <td>7</td>\n",
       "      <td>NaN</td>\n",
       "      <td>NaN</td>\n",
       "      <td>4</td>\n",
       "      <td>F</td>\n",
       "    </tr>\n",
       "    <tr>\n",
       "      <th>23</th>\n",
       "      <td>29.0</td>\n",
       "      <td>53</td>\n",
       "      <td>48</td>\n",
       "      <td>NaN</td>\n",
       "      <td>51</td>\n",
       "      <td>D</td>\n",
       "    </tr>\n",
       "    <tr>\n",
       "      <th>24</th>\n",
       "      <td>0.0</td>\n",
       "      <td>100</td>\n",
       "      <td>37</td>\n",
       "      <td>NaN</td>\n",
       "      <td>75</td>\n",
       "      <td>B-</td>\n",
       "    </tr>\n",
       "    <tr>\n",
       "      <th>25</th>\n",
       "      <td>5.0</td>\n",
       "      <td>75</td>\n",
       "      <td>30</td>\n",
       "      <td>NaN</td>\n",
       "      <td>57</td>\n",
       "      <td>D+</td>\n",
       "    </tr>\n",
       "    <tr>\n",
       "      <th>26</th>\n",
       "      <td>5.0</td>\n",
       "      <td>73</td>\n",
       "      <td>35</td>\n",
       "      <td>NaN</td>\n",
       "      <td>58</td>\n",
       "      <td>D+</td>\n",
       "    </tr>\n",
       "    <tr>\n",
       "      <th>27</th>\n",
       "      <td>14.0</td>\n",
       "      <td>92</td>\n",
       "      <td>8</td>\n",
       "      <td>NaN</td>\n",
       "      <td>58</td>\n",
       "      <td>D+</td>\n",
       "    </tr>\n",
       "    <tr>\n",
       "      <th>28</th>\n",
       "      <td>29.0</td>\n",
       "      <td>100</td>\n",
       "      <td>30</td>\n",
       "      <td>NaN</td>\n",
       "      <td>72</td>\n",
       "      <td>C+</td>\n",
       "    </tr>\n",
       "    <tr>\n",
       "      <th>29</th>\n",
       "      <td>21.0</td>\n",
       "      <td>100</td>\n",
       "      <td>48</td>\n",
       "      <td>NaN</td>\n",
       "      <td>79</td>\n",
       "      <td>B-</td>\n",
       "    </tr>\n",
       "    <tr>\n",
       "      <th>30</th>\n",
       "      <td>12.0</td>\n",
       "      <td>100</td>\n",
       "      <td>45</td>\n",
       "      <td>NaN</td>\n",
       "      <td>78</td>\n",
       "      <td>B-</td>\n",
       "    </tr>\n",
       "    <tr>\n",
       "      <th>31</th>\n",
       "      <td>14.0</td>\n",
       "      <td>100</td>\n",
       "      <td>53</td>\n",
       "      <td>NaN</td>\n",
       "      <td>81</td>\n",
       "      <td>B</td>\n",
       "    </tr>\n",
       "    <tr>\n",
       "      <th>32</th>\n",
       "      <td>26.0</td>\n",
       "      <td>58</td>\n",
       "      <td>10</td>\n",
       "      <td>40</td>\n",
       "      <td>51</td>\n",
       "      <td>D</td>\n",
       "    </tr>\n",
       "    <tr>\n",
       "      <th>33</th>\n",
       "      <td>7.0</td>\n",
       "      <td>67</td>\n",
       "      <td>0</td>\n",
       "      <td>NaN</td>\n",
       "      <td>40</td>\n",
       "      <td>FX</td>\n",
       "    </tr>\n",
       "    <tr>\n",
       "      <th>34</th>\n",
       "      <td>10.0</td>\n",
       "      <td>90</td>\n",
       "      <td>40</td>\n",
       "      <td>NaN</td>\n",
       "      <td>70</td>\n",
       "      <td>C+</td>\n",
       "    </tr>\n",
       "    <tr>\n",
       "      <th>35</th>\n",
       "      <td>36.0</td>\n",
       "      <td>failed</td>\n",
       "      <td>failed</td>\n",
       "      <td>failed</td>\n",
       "      <td>0</td>\n",
       "      <td>F</td>\n",
       "    </tr>\n",
       "  </tbody>\n",
       "</table>\n",
       "</div>"
      ],
      "text/plain": [
       "    Course Absence Rate      PF     FIN      RE  AVG  LG\n",
       "0                  17.0      21     abs     NaN    0   F\n",
       "1                  19.0       7     NaN     NaN    4   F\n",
       "2                  21.0      70      10     NaN   46  FX\n",
       "3                  24.0      83      40     NaN   66   C\n",
       "4                  21.0     100      33     NaN   73  C+\n",
       "5                  29.0      82      55     NaN   71  C+\n",
       "6                   5.0      80      45     NaN   66   C\n",
       "7                  26.0      82      10     NaN   53   D\n",
       "8                   0.0     100      95     NaN   98   A\n",
       "9                  24.0       7     NaN     NaN    4   F\n",
       "10                 10.0     100      65     NaN   86  B+\n",
       "11                  7.0     100      55     NaN   82   B\n",
       "12                 21.0      95      25     NaN   67   C\n",
       "13                  0.0      73      65     NaN   70  C+\n",
       "14                  0.0      92      28     NaN   66   C\n",
       "15                  0.0     100      74     NaN   90  A-\n",
       "16                 50.0  failed  failed  failed    0   F\n",
       "17                  7.0      95      38     NaN   72  C+\n",
       "18                  7.0     100      33     NaN   73  C+\n",
       "19                  2.0      88      15     NaN   59  D+\n",
       "20                 10.0      93      53     NaN   77  B-\n",
       "21                 26.0     100      50     NaN   80   B\n",
       "22                 26.0       7     NaN     NaN    4   F\n",
       "23                 29.0      53      48     NaN   51   D\n",
       "24                  0.0     100      37     NaN   75  B-\n",
       "25                  5.0      75      30     NaN   57  D+\n",
       "26                  5.0      73      35     NaN   58  D+\n",
       "27                 14.0      92       8     NaN   58  D+\n",
       "28                 29.0     100      30     NaN   72  C+\n",
       "29                 21.0     100      48     NaN   79  B-\n",
       "30                 12.0     100      45     NaN   78  B-\n",
       "31                 14.0     100      53     NaN   81   B\n",
       "32                 26.0      58      10      40   51   D\n",
       "33                  7.0      67       0     NaN   40  FX\n",
       "34                 10.0      90      40     NaN   70  C+\n",
       "35                 36.0  failed  failed  failed    0   F"
      ]
     },
     "execution_count": 180,
     "metadata": {},
     "output_type": "execute_result"
    }
   ],
   "source": [
    "df2"
   ]
  },
  {
   "cell_type": "code",
   "execution_count": 181,
   "metadata": {
    "ExecuteTime": {
     "end_time": "2024-04-11T09:41:06.389396Z",
     "start_time": "2024-04-11T09:41:06.375208Z"
    }
   },
   "outputs": [
    {
     "name": "stdout",
     "output_type": "stream",
     "text": [
      "<class 'pandas.core.frame.DataFrame'>\n",
      "RangeIndex: 36 entries, 0 to 35\n",
      "Data columns (total 6 columns):\n",
      " #   Column               Non-Null Count  Dtype  \n",
      "---  ------               --------------  -----  \n",
      " 0   Course Absence Rate  36 non-null     float64\n",
      " 1   PF                   36 non-null     object \n",
      " 2   FIN                  33 non-null     object \n",
      " 3   RE                   3 non-null      object \n",
      " 4   AVG                  36 non-null     int64  \n",
      " 5   LG                   36 non-null     object \n",
      "dtypes: float64(1), int64(1), object(4)\n",
      "memory usage: 1.8+ KB\n"
     ]
    }
   ],
   "source": [
    "df2.info()"
   ]
  },
  {
   "cell_type": "markdown",
   "metadata": {},
   "source": [
    "Предоброботка данных\n"
   ]
  },
  {
   "cell_type": "code",
   "execution_count": 182,
   "metadata": {
    "ExecuteTime": {
     "end_time": "2024-04-11T09:41:06.818239Z",
     "start_time": "2024-04-11T09:41:06.805362Z"
    }
   },
   "outputs": [],
   "source": [
    "df2['FIN'].fillna(0, inplace=True)\n",
    "# if FIN = 'failed' then FIN = 0"
   ]
  },
  {
   "cell_type": "code",
   "execution_count": 183,
   "metadata": {
    "ExecuteTime": {
     "end_time": "2024-04-11T09:41:07.020165Z",
     "start_time": "2024-04-11T09:41:07.005722Z"
    }
   },
   "outputs": [],
   "source": [
    "df2['FIN'] = df2['FIN'].replace('failed', 0)\n",
    "df2['FIN'] = df2['FIN'].replace('abs', 0)"
   ]
  },
  {
   "cell_type": "code",
   "execution_count": 184,
   "metadata": {
    "ExecuteTime": {
     "end_time": "2024-04-11T09:41:07.255801Z",
     "start_time": "2024-04-11T09:41:07.242666Z"
    }
   },
   "outputs": [],
   "source": [
    "df2['FIN'] = pd.to_numeric(df2['FIN'])"
   ]
  },
  {
   "cell_type": "code",
   "execution_count": 185,
   "metadata": {
    "ExecuteTime": {
     "end_time": "2024-04-11T09:41:07.614121Z",
     "start_time": "2024-04-11T09:41:07.599906Z"
    }
   },
   "outputs": [],
   "source": [
    "df2['PF'] = df2['PF'].replace('failed', 0)"
   ]
  },
  {
   "cell_type": "code",
   "execution_count": 186,
   "metadata": {
    "ExecuteTime": {
     "end_time": "2024-04-11T09:41:07.820697Z",
     "start_time": "2024-04-11T09:41:07.811256Z"
    }
   },
   "outputs": [],
   "source": [
    "df2['PF'] = pd.to_numeric(df2['PF'])"
   ]
  },
  {
   "cell_type": "code",
   "execution_count": 187,
   "metadata": {
    "ExecuteTime": {
     "end_time": "2024-04-11T09:41:08.022506Z",
     "start_time": "2024-04-11T09:41:08.009688Z"
    }
   },
   "outputs": [],
   "source": [
    "df2['RE'] = df2['RE'].replace(np.nan, 0)\n",
    "df2['RE'] = df2['RE'].replace('failed', 0)"
   ]
  },
  {
   "cell_type": "code",
   "execution_count": 188,
   "metadata": {
    "ExecuteTime": {
     "end_time": "2024-04-11T09:41:08.624258Z",
     "start_time": "2024-04-11T09:41:08.610360Z"
    }
   },
   "outputs": [],
   "source": [
    "df2['RE'] = pd.to_numeric(df2['RE'])"
   ]
  },
  {
   "cell_type": "code",
   "execution_count": 189,
   "metadata": {
    "ExecuteTime": {
     "end_time": "2024-04-11T09:41:10.651559Z",
     "start_time": "2024-04-11T09:41:10.641016Z"
    }
   },
   "outputs": [],
   "source": [
    "# # Обновляем значения в столбце FIN на основе значений в столбце RE\n",
    "# df['FIN'] = np.where((df['RE'] != np.nan) | (df['RE'] != 'failed'), df['RE'], df['FIN'])\n"
   ]
  },
  {
   "cell_type": "code",
   "execution_count": 190,
   "metadata": {
    "ExecuteTime": {
     "end_time": "2024-04-11T09:41:10.870684Z",
     "start_time": "2024-04-11T09:41:10.850411Z"
    }
   },
   "outputs": [
    {
     "name": "stdout",
     "output_type": "stream",
     "text": [
      "<class 'pandas.core.frame.DataFrame'>\n",
      "RangeIndex: 36 entries, 0 to 35\n",
      "Data columns (total 6 columns):\n",
      " #   Column               Non-Null Count  Dtype  \n",
      "---  ------               --------------  -----  \n",
      " 0   Course Absence Rate  36 non-null     float64\n",
      " 1   PF                   36 non-null     int64  \n",
      " 2   FIN                  36 non-null     int64  \n",
      " 3   RE                   36 non-null     int64  \n",
      " 4   AVG                  36 non-null     int64  \n",
      " 5   LG                   36 non-null     object \n",
      "dtypes: float64(1), int64(4), object(1)\n",
      "memory usage: 1.8+ KB\n"
     ]
    }
   ],
   "source": [
    "df2.info()"
   ]
  },
  {
   "cell_type": "code",
   "execution_count": 191,
   "metadata": {
    "ExecuteTime": {
     "end_time": "2024-04-11T09:41:13.141098Z",
     "start_time": "2024-04-11T09:41:13.128741Z"
    }
   },
   "outputs": [
    {
     "data": {
      "text/html": [
       "<div>\n",
       "<style scoped>\n",
       "    .dataframe tbody tr th:only-of-type {\n",
       "        vertical-align: middle;\n",
       "    }\n",
       "\n",
       "    .dataframe tbody tr th {\n",
       "        vertical-align: top;\n",
       "    }\n",
       "\n",
       "    .dataframe thead th {\n",
       "        text-align: right;\n",
       "    }\n",
       "</style>\n",
       "<table border=\"1\" class=\"dataframe\">\n",
       "  <thead>\n",
       "    <tr style=\"text-align: right;\">\n",
       "      <th></th>\n",
       "      <th>Course Absence Rate</th>\n",
       "      <th>PF</th>\n",
       "      <th>FIN</th>\n",
       "      <th>RE</th>\n",
       "      <th>AVG</th>\n",
       "      <th>LG</th>\n",
       "    </tr>\n",
       "  </thead>\n",
       "  <tbody>\n",
       "    <tr>\n",
       "      <th>0</th>\n",
       "      <td>17.0</td>\n",
       "      <td>21</td>\n",
       "      <td>0</td>\n",
       "      <td>0</td>\n",
       "      <td>0</td>\n",
       "      <td>F</td>\n",
       "    </tr>\n",
       "    <tr>\n",
       "      <th>1</th>\n",
       "      <td>19.0</td>\n",
       "      <td>7</td>\n",
       "      <td>0</td>\n",
       "      <td>0</td>\n",
       "      <td>4</td>\n",
       "      <td>F</td>\n",
       "    </tr>\n",
       "    <tr>\n",
       "      <th>2</th>\n",
       "      <td>21.0</td>\n",
       "      <td>70</td>\n",
       "      <td>10</td>\n",
       "      <td>0</td>\n",
       "      <td>46</td>\n",
       "      <td>FX</td>\n",
       "    </tr>\n",
       "  </tbody>\n",
       "</table>\n",
       "</div>"
      ],
      "text/plain": [
       "   Course Absence Rate  PF  FIN  RE  AVG  LG\n",
       "0                 17.0  21    0   0    0   F\n",
       "1                 19.0   7    0   0    4   F\n",
       "2                 21.0  70   10   0   46  FX"
      ]
     },
     "execution_count": 191,
     "metadata": {},
     "output_type": "execute_result"
    }
   ],
   "source": [
    "df2.head(3)"
   ]
  },
  {
   "cell_type": "code",
   "execution_count": 193,
   "metadata": {
    "ExecuteTime": {
     "end_time": "2024-04-11T09:41:41.740498Z",
     "start_time": "2024-04-11T09:41:41.726452Z"
    }
   },
   "outputs": [],
   "source": [
    "# df2.to_csv('data1.csv', index=False)"
   ]
  },
  {
   "cell_type": "code",
   "execution_count": 66,
   "metadata": {
    "ExecuteTime": {
     "end_time": "2024-04-10T11:28:03.594205Z",
     "start_time": "2024-04-10T11:28:03.581298Z"
    }
   },
   "outputs": [],
   "source": [
    "X2 = df[['Course Absence Rate', 'PF']].values\n",
    "y2 = df['FIN'].values"
   ]
  },
  {
   "cell_type": "code",
   "execution_count": 67,
   "metadata": {
    "ExecuteTime": {
     "end_time": "2024-04-10T11:28:05.738125Z",
     "start_time": "2024-04-10T11:28:05.724101Z"
    }
   },
   "outputs": [],
   "source": [
    "# Нормализация данных\n",
    "scaler = StandardScaler()\n",
    "X_scaled_2 = scaler.fit_transform(X2)"
   ]
  },
  {
   "cell_type": "code",
   "execution_count": 68,
   "metadata": {
    "ExecuteTime": {
     "end_time": "2024-04-10T11:28:21.039085Z",
     "start_time": "2024-04-10T11:28:21.022289Z"
    }
   },
   "outputs": [
    {
     "name": "stdout",
     "output_type": "stream",
     "text": [
      "Predicted FIN for new data:\n",
      "[44.183758   42.39676    13.318419   27.988863   27.70227    38.30318\n",
      " 60.926716   47.396057   48.908447   57.76127    28.624504   60.926716\n",
      " 60.926723   52.35276    52.35276    34.613903   44.17484    48.330074\n",
      " 60.926716   -0.6969437  60.926716   38.646397   20.262508   48.330074\n",
      " 42.0323     51.81013    -0.27051395 50.373432   48.330074   55.798477\n",
      " 35.632687    1.1963687  57.76127    32.123386   27.020313   34.613903\n",
      " -0.6969437  48.330074   48.908447   55.133194   23.29969    -1.2145019\n",
      " 35.929585   16.303205   49.505047   55.79848    53.201263   16.315315\n",
      " 30.86097    51.81013    22.043243   60.926716   47.396057   48.330074\n",
      " 47.396057   52.352764    2.5755477  12.501914   60.926723   36.197605\n",
      " 55.79848    47.396057   55.133194   22.791319   14.416216   55.79848\n",
      " 57.521328   34.601368   25.76194    60.926716   52.352764   20.26231\n",
      " 12.884204    0.08703667 31.201519   34.071617   48.330074   52.54465\n",
      "  1.99017    60.926716   50.373432   35.594837   51.81013     0.07982546\n",
      " 50.373432   38.412426   31.228153   60.926723   56.178543   25.507801  ]\n"
     ]
    }
   ],
   "source": [
    "# Подача новых данных в модель для предсказания\n",
    "with torch.no_grad():\n",
    "    new_inputs = torch.autograd.Variable(torch.Tensor(X_scaled_2).float())\n",
    "    new_outputs = model(new_inputs)\n",
    "    predicted_fin_new_data = new_outputs.detach().numpy().flatten()\n",
    "\n",
    "# Вывод предсказаний для новых данных\n",
    "print(\"Predicted FIN for new data:\")\n",
    "print(predicted_fin_new_data)"
   ]
  },
  {
   "cell_type": "code",
   "execution_count": 69,
   "metadata": {
    "ExecuteTime": {
     "end_time": "2024-04-10T11:28:35.454535Z",
     "start_time": "2024-04-10T11:28:35.443668Z"
    }
   },
   "outputs": [
    {
     "name": "stdout",
     "output_type": "stream",
     "text": [
      "    Actual_FIN  Predicted_FIN\n",
      "0           36      44.183758\n",
      "1           28      42.396759\n",
      "2           10      13.318419\n",
      "3           13      27.988863\n",
      "4           10      27.702271\n",
      "..         ...            ...\n",
      "85          30      38.412426\n",
      "86          25      31.228153\n",
      "87          38      60.926723\n",
      "88          63      56.178543\n",
      "89          25      25.507801\n",
      "\n",
      "[90 rows x 2 columns]\n"
     ]
    }
   ],
   "source": [
    "# Создание DataFrame для сравнения фактических и предсказанных значений\n",
    "comparison_df = pd.DataFrame({'Actual_FIN': y2, 'Predicted_FIN': predicted_fin_new_data})\n",
    "\n",
    "# Вывод таблицы сравнения\n",
    "print(comparison_df)"
   ]
  },
  {
   "cell_type": "code",
   "execution_count": null,
   "metadata": {},
   "outputs": [],
   "source": []
  },
  {
   "cell_type": "code",
   "execution_count": null,
   "metadata": {},
   "outputs": [],
   "source": []
  },
  {
   "cell_type": "code",
   "execution_count": null,
   "metadata": {},
   "outputs": [],
   "source": []
  },
  {
   "cell_type": "code",
   "execution_count": null,
   "metadata": {},
   "outputs": [],
   "source": []
  },
  {
   "cell_type": "code",
   "execution_count": null,
   "metadata": {},
   "outputs": [],
   "source": []
  },
  {
   "cell_type": "code",
   "execution_count": null,
   "metadata": {},
   "outputs": [],
   "source": []
  },
  {
   "cell_type": "code",
   "execution_count": null,
   "metadata": {},
   "outputs": [],
   "source": []
  },
  {
   "cell_type": "code",
   "execution_count": null,
   "metadata": {},
   "outputs": [],
   "source": []
  },
  {
   "cell_type": "code",
   "execution_count": null,
   "metadata": {},
   "outputs": [],
   "source": []
  },
  {
   "cell_type": "code",
   "execution_count": null,
   "metadata": {},
   "outputs": [],
   "source": []
  },
  {
   "cell_type": "code",
   "execution_count": null,
   "metadata": {},
   "outputs": [],
   "source": []
  },
  {
   "cell_type": "code",
   "execution_count": null,
   "metadata": {},
   "outputs": [],
   "source": []
  },
  {
   "cell_type": "markdown",
   "metadata": {},
   "source": [
    "Тюнинг гиперпараметров"
   ]
  },
  {
   "cell_type": "code",
   "execution_count": null,
   "metadata": {},
   "outputs": [],
   "source": [
    "class PyTorchRegressor(BaseEstimator):\n",
    "    def __init__(self, model, lr=0.001, hidden_size=64, num_layers=2):\n",
    "        self.model = model\n",
    "        self.lr = lr\n",
    "        self.hidden_size = hidden_size\n",
    "        self.num_layers = num_layers\n",
    "\n",
    "    def fit(self, X, y):\n",
    "        criterion = nn.MSELoss()\n",
    "        optimizer = optim.Adam(self.model.parameters(), lr=self.lr)\n",
    "        epochs = 1000\n",
    "        X_tensor = torch.tensor(X, dtype=torch.float32)\n",
    "        y_tensor = torch.tensor(y, dtype=torch.float32).view(-1, 1)\n",
    "\n",
    "        for epoch in range(epochs):\n",
    "            optimizer.zero_grad()\n",
    "            outputs = self.model(X_tensor)\n",
    "            loss = criterion(outputs, y_tensor)\n",
    "            loss.backward()\n",
    "            optimizer.step()\n",
    "\n",
    "        return self\n",
    "\n",
    "    def predict(self, X):\n",
    "        X_tensor = torch.tensor(X, dtype=torch.float32)\n",
    "        with torch.no_grad():\n",
    "            predictions = self.model(X_tensor)\n",
    "        return predictions.numpy().flatten()\n"
   ]
  },
  {
   "cell_type": "code",
   "execution_count": null,
   "metadata": {},
   "outputs": [],
   "source": [
    "# Определение модели\n",
    "model = Net()\n",
    "\n",
    "# Создание экземпляра класса-обертки с параметрами\n",
    "pytorch_model = PyTorchRegressor(model)\n",
    "\n",
    "# Определение параметров для тюнинга\n",
    "parameters = {\n",
    "    'lr': [0.001, 0.01, 0.1],\n",
    "    'hidden_size': [32, 64, 128],\n",
    "    'num_layers': [1, 2, 3]\n",
    "}\n",
    "\n",
    "# Инициализация объекта GridSearchCV\n",
    "grid_search = GridSearchCV(estimator=pytorch_model, param_grid=parameters, scoring='neg_mean_squared_error', cv=5)\n",
    "\n",
    "# Поиск наилучших гиперпараметров\n",
    "grid_search.fit(X_train, y_train)\n",
    "\n",
    "# Вывод результатов\n",
    "print(\"Best parameters found: \", grid_search.best_params_)\n",
    "print(\"Lowest RMSE found: \", np.sqrt(np.abs(grid_search.best_score_)))\n",
    "\n",
    "# Использование наилучших параметров\n",
    "best_model = grid_search.best_estimator_\n",
    "\n",
    "# Обучение модели с наилучшими параметрами\n",
    "best_model.fit(X_train, y_train)\n",
    "\n",
    "# Оценка качества модели\n",
    "# Оценка качества модели\n",
    "# Оценка качества модели\n",
    "with torch.no_grad():\n",
    "    inputs = torch.autograd.Variable(torch.Tensor(X_test).float())\n",
    "    targets = torch.autograd.Variable(torch.Tensor(y_test).float())\n",
    "    outputs = best_model.predict(X_test)\n",
    "    mse = criterion(torch.tensor(outputs), targets.view(-1, 1))\n",
    "    print(f'Mean Squared Error on Test Data (after tuning): {mse.item():.4f}')"
   ]
  },
  {
   "cell_type": "code",
   "execution_count": null,
   "metadata": {},
   "outputs": [],
   "source": [
    "X_train"
   ]
  },
  {
   "cell_type": "code",
   "execution_count": null,
   "metadata": {},
   "outputs": [],
   "source": [
    "X_test"
   ]
  },
  {
   "cell_type": "code",
   "execution_count": null,
   "metadata": {},
   "outputs": [],
   "source": [
    "# Пересчитаем предсказанные значения FIN\n",
    "predicted_fin = outputs.flatten()\n",
    "\n",
    "# Создание DataFrame с предсказанными и фактическими значениями FIN\n",
    "comparison_df = pd.DataFrame({'Actual FIN': y_test, 'Predicted FIN': predicted_fin})\n",
    "\n",
    "# Вывод таблицы сравнения\n",
    "print(comparison_df)"
   ]
  },
  {
   "cell_type": "code",
   "execution_count": null,
   "metadata": {},
   "outputs": [],
   "source": []
  },
  {
   "cell_type": "code",
   "execution_count": null,
   "metadata": {},
   "outputs": [],
   "source": []
  },
  {
   "cell_type": "code",
   "execution_count": null,
   "metadata": {},
   "outputs": [],
   "source": []
  },
  {
   "cell_type": "code",
   "execution_count": null,
   "metadata": {},
   "outputs": [],
   "source": []
  },
  {
   "cell_type": "code",
   "execution_count": null,
   "metadata": {},
   "outputs": [],
   "source": []
  },
  {
   "cell_type": "code",
   "execution_count": null,
   "metadata": {},
   "outputs": [],
   "source": []
  },
  {
   "cell_type": "code",
   "execution_count": null,
   "metadata": {},
   "outputs": [],
   "source": []
  },
  {
   "cell_type": "code",
   "execution_count": null,
   "metadata": {},
   "outputs": [],
   "source": []
  },
  {
   "cell_type": "code",
   "execution_count": null,
   "metadata": {},
   "outputs": [],
   "source": [
    "from sklearn.metrics import mean_squared_error\n",
    "import matplotlib.pyplot as plt\n",
    "\n",
    "# Оценка качества модели\n",
    "mse = mean_squared_error(y_test_tensor.numpy(), y_pred.numpy())\n",
    "print(f'Mean Squared Error: {mse:.4f}')\n",
    "\n",
    "# Построение графика\n",
    "plt.scatter(y_test_tensor.numpy(), y_pred.numpy())\n",
    "plt.xlabel('True Values')\n",
    "plt.ylabel('Predictions')\n",
    "plt.title('True vs Predicted Values')\n",
    "plt.show()\n"
   ]
  },
  {
   "cell_type": "code",
   "execution_count": null,
   "metadata": {},
   "outputs": [],
   "source": [
    "from sklearn.model_selection import cross_val_score\n",
    "from sklearn.base import BaseEstimator\n",
    "\n",
    "class PyTorchRegressor(BaseEstimator):\n",
    "    def __init__(self, model):\n",
    "        self.model = model\n",
    "\n",
    "    def fit(self, X, y):\n",
    "        X_tensor = torch.tensor(X, dtype=torch.float32)\n",
    "        y_tensor = torch.tensor(y, dtype=torch.float32).view(-1, 1)\n",
    "        criterion = nn.MSELoss()\n",
    "        optimizer = optim.Adam(self.model.parameters(), lr=0.001)\n",
    "        num_epochs = 1000\n",
    "        for epoch in range(num_epochs):\n",
    "            self.model.train()\n",
    "            optimizer.zero_grad()\n",
    "            outputs = self.model(X_tensor)\n",
    "            loss = criterion(outputs, y_tensor)\n",
    "            loss.backward()\n",
    "            optimizer.step()\n",
    "        return self\n",
    "\n",
    "    def predict(self, X):\n",
    "        X_tensor = torch.tensor(X, dtype=torch.float32)\n",
    "        self.model.eval()\n",
    "        with torch.no_grad():\n",
    "            predictions = self.model(X_tensor)\n",
    "        return predictions.detach().numpy()\n",
    "\n",
    "# Создание экземпляра модели PyTorchRegressor\n",
    "pytorch_model = PyTorchRegressor(model)\n",
    "\n",
    "# Кросс-валидация\n",
    "scores = cross_val_score(pytorch_model, X_scaled, y, cv=5, scoring='neg_mean_squared_error')\n",
    "print(f'Cross-validated MSE: {-scores.mean()}')\n"
   ]
  },
  {
   "cell_type": "code",
   "execution_count": null,
   "metadata": {},
   "outputs": [],
   "source": [
    "# Получение весов для каждого признака\n",
    "weights = model.fc1.weight.detach().numpy().flatten()\n",
    "print('Feature Weights:')\n",
    "for i, weight in enumerate(weights):\n",
    "    print(f'Feature {i+1}: {weight}')\n"
   ]
  },
  {
   "cell_type": "code",
   "execution_count": null,
   "metadata": {},
   "outputs": [],
   "source": [
    "# Анализ остатков\n",
    "residuals = y_test_tensor.numpy() - y_pred.numpy()\n",
    "plt.scatter(y_pred.numpy(), residuals)\n",
    "plt.xlabel('Predicted Values')\n",
    "plt.ylabel('Residuals')\n",
    "plt.title('Residual Plot')\n",
    "plt.axhline(y=0, color='r', linestyle='-')\n",
    "plt.show()\n"
   ]
  },
  {
   "cell_type": "code",
   "execution_count": null,
   "metadata": {},
   "outputs": [],
   "source": [
    "# Получение предсказанных значений\n",
    "y_pred = model(X_test_tensor).detach().numpy()\n",
    "\n",
    "# Создание DataFrame с правильными и предсказанными оценками\n",
    "import pandas as pd\n",
    "\n",
    "df_results = pd.DataFrame({'True_FIN': y_test.flatten(), 'Predicted_FIN': y_pred.flatten()})\n",
    "print(df_results)\n"
   ]
  },
  {
   "cell_type": "code",
   "execution_count": null,
   "metadata": {},
   "outputs": [],
   "source": []
  },
  {
   "cell_type": "code",
   "execution_count": null,
   "metadata": {},
   "outputs": [],
   "source": [
    "ффф"
   ]
  },
  {
   "cell_type": "code",
   "execution_count": null,
   "metadata": {
    "colab": {
     "base_uri": "https://localhost:8080/"
    },
    "id": "EFIo2JjIm1Gz",
    "outputId": "b698e775-6008-487a-f6dd-070b160ffff3"
   },
   "outputs": [],
   "source": [
    "import torch\n",
    "import torch.nn as nn\n",
    "import torch.optim as optim\n",
    "from torch.utils.data import TensorDataset, DataLoader\n",
    "import numpy as np\n",
    "from sklearn.model_selection import train_test_split\n",
    "\n",
    "X = df['PF, x2']\n",
    "y = df['FIN, y']\n",
    "# Преобразование данных в тензоры PyTorch\n",
    "X_tensor = torch.tensor(X.values, dtype=torch.float32)\n",
    "y_tensor = torch.tensor(y.values, dtype=torch.float32)\n",
    "\n",
    "# Разделение данных на тренировочный и тестовый наборы\n",
    "X_train, X_test, y_train, y_test = train_test_split(X_tensor, y_tensor, test_size=0.3, random_state=42)\n",
    "\n",
    "# Создание DataLoader для тренировочного и тестового наборов\n",
    "train_data = TensorDataset(X_train, y_train)\n",
    "train_loader = DataLoader(train_data, batch_size=16, shuffle=True)\n",
    "\n",
    "test_data = TensorDataset(X_test, y_test)\n",
    "test_loader = DataLoader(test_data, batch_size=16, shuffle=False)\n",
    "\n",
    "# Определение архитектуры нейронной сети\n",
    "class Net(nn.Module):\n",
    "    def __init__(self):\n",
    "        super(Net, self).__init__()\n",
    "        self.fc1 = nn.Linear(1, 64) # 1 входной узел, 64 выходных узла\n",
    "        self.fc2 = nn.Linear(64, 64) # 64 входных узла, 64 выходных узла\n",
    "        self.fc3 = nn.Linear(64, 1) # 64 входных узла, 1 выходной узел\n",
    "\n",
    "    def forward(self, x):\n",
    "        x = x.unsqueeze(1)  # добавляем размерность для соответствия размерности весов\n",
    "        x = torch.relu(self.fc1(x))\n",
    "        x = torch.relu(self.fc2(x))\n",
    "        x = self.fc3(x)\n",
    "        return x\n",
    "\n",
    "# Инициализация модели, функции потерь и оптимизатора\n",
    "model = Net()\n",
    "criterion = nn.MSELoss()\n",
    "optimizer = optim.Adam(model.parameters(), lr=0.001)\n",
    "\n",
    "# Обучение модели\n",
    "num_epochs = 100\n",
    "for epoch in range(num_epochs):\n",
    "    model.train()\n",
    "    running_loss = 0.0\n",
    "    for inputs, targets in train_loader:\n",
    "        optimizer.zero_grad()\n",
    "        outputs = model(inputs)\n",
    "        loss = criterion(outputs, targets.unsqueeze(1))\n",
    "        loss.backward()\n",
    "        optimizer.step()\n",
    "        running_loss += loss.item() * inputs.size(0)\n",
    "    epoch_loss = running_loss / len(train_loader.dataset)\n",
    "    print(f\"Epoch {epoch+1}/{num_epochs}, Loss: {epoch_loss:.4f}\")\n",
    "\n",
    "# Оценка модели на тестовом наборе\n",
    "model.eval()\n",
    "test_loss = 0.0\n",
    "with torch.no_grad():\n",
    "    for inputs, targets in test_loader:\n",
    "        outputs = model(inputs)\n",
    "        loss = criterion(outputs, targets.unsqueeze(1))\n",
    "        test_loss += loss.item() * inputs.size(0)\n",
    "test_loss /= len(test_loader.dataset)\n",
    "print(f\"Test Loss: {test_loss:.4f}\")\n"
   ]
  },
  {
   "cell_type": "code",
   "execution_count": null,
   "metadata": {
    "colab": {
     "base_uri": "https://localhost:8080/"
    },
    "id": "uiLCNI5Rnl2C",
    "outputId": "c6408e15-8b50-432d-9b3c-90e8a72d2b3f"
   },
   "outputs": [],
   "source": [
    "# Создадим тензор PyTorch для значения PF, x2, которое мы хотим предсказать\n",
    "pf_value = 0.8  # замените это на нужное значение PF, x2\n",
    "pf_tensor = torch.tensor([[pf_value]], dtype=torch.float32)\n",
    "\n",
    "# Получим предсказание от модели\n",
    "model.eval()\n",
    "with torch.no_grad():\n",
    "    fin_prediction = model(pf_tensor)\n",
    "\n",
    "print(f\"Предсказанный FIN для значения PF, x2 = {pf_value}: {fin_prediction.item()}\")\n"
   ]
  },
  {
   "cell_type": "markdown",
   "metadata": {
    "id": "SoeGudk26Voa"
   },
   "source": [
    "## Теперь X = Course Absence Rate"
   ]
  },
  {
   "cell_type": "code",
   "execution_count": null,
   "metadata": {
    "colab": {
     "base_uri": "https://localhost:8080/"
    },
    "id": "o9XlTCQ66ecc",
    "outputId": "86dbacf2-586e-4973-b95c-c070035f3c76"
   },
   "outputs": [],
   "source": [
    "X = df['Course Absence Rate, x1']\n",
    "y = df['FIN, y']\n",
    "# Преобразование данных в тензоры PyTorch\n",
    "X_tensor = torch.tensor(X.values, dtype=torch.float32)\n",
    "y_tensor = torch.tensor(y.values, dtype=torch.float32)\n",
    "\n",
    "# Разделение данных на тренировочный и тестовый наборы\n",
    "X_train, X_test, y_train, y_test = train_test_split(X_tensor, y_tensor, test_size=0.3, random_state=42)\n",
    "\n",
    "# Создание DataLoader для тренировочного и тестового наборов\n",
    "train_data = TensorDataset(X_train, y_train)\n",
    "train_loader = DataLoader(train_data, batch_size=16, shuffle=True)\n",
    "\n",
    "test_data = TensorDataset(X_test, y_test)\n",
    "test_loader = DataLoader(test_data, batch_size=16, shuffle=False)\n",
    "\n",
    "# Определение архитектуры нейронной сети\n",
    "class Net(nn.Module):\n",
    "    def __init__(self):\n",
    "        super(Net, self).__init__()\n",
    "        self.fc1 = nn.Linear(1, 64) # 1 входной узел, 64 выходных узла\n",
    "        self.fc2 = nn.Linear(64, 64) # 64 входных узла, 64 выходных узла\n",
    "        self.fc3 = nn.Linear(64, 1) # 64 входных узла, 1 выходной узел\n",
    "\n",
    "    def forward(self, x):\n",
    "        x = x.unsqueeze(1)  # добавляем размерность для соответствия размерности весов\n",
    "        x = torch.relu(self.fc1(x))\n",
    "        x = torch.relu(self.fc2(x))\n",
    "        x = self.fc3(x)\n",
    "        return x\n",
    "\n",
    "# Инициализация модели, функции потерь и оптимизатора\n",
    "model = Net()\n",
    "criterion = nn.MSELoss()\n",
    "optimizer = optim.Adam(model.parameters(), lr=0.001)\n",
    "\n",
    "# Обучение модели\n",
    "num_epochs = 100\n",
    "for epoch in range(num_epochs):\n",
    "    model.train()\n",
    "    running_loss = 0.0\n",
    "    for inputs, targets in train_loader:\n",
    "        optimizer.zero_grad()\n",
    "        outputs = model(inputs)\n",
    "        loss = criterion(outputs, targets.unsqueeze(1))\n",
    "        loss.backward()\n",
    "        optimizer.step()\n",
    "        running_loss += loss.item() * inputs.size(0)\n",
    "    epoch_loss = running_loss / len(train_loader.dataset)\n",
    "    print(f\"Epoch {epoch+1}/{num_epochs}, Loss: {epoch_loss:.4f}\")\n",
    "\n",
    "# Оценка модели на тестовом наборе\n",
    "model.eval()\n",
    "test_loss = 0.0\n",
    "with torch.no_grad():\n",
    "    for inputs, targets in test_loader:\n",
    "        outputs = model(inputs)\n",
    "        loss = criterion(outputs, targets.unsqueeze(1))\n",
    "        test_loss += loss.item() * inputs.size(0)\n",
    "test_loss /= len(test_loader.dataset)\n",
    "print(f\"Test Loss: {test_loss:.4f}\")\n"
   ]
  },
  {
   "cell_type": "code",
   "execution_count": null,
   "metadata": {
    "colab": {
     "base_uri": "https://localhost:8080/"
    },
    "id": "BcteGfC-6puv",
    "outputId": "d8f89b81-fa70-4e2d-835c-cf53c22f752a"
   },
   "outputs": [],
   "source": [
    "# Создадим тензор PyTorch для значения PF, x2, которое мы хотим предсказать\n",
    "pf_value = 0.8  # замените это на нужное значение PF, x2\n",
    "pf_tensor = torch.tensor([[pf_value]], dtype=torch.float32)\n",
    "\n",
    "# Получим предсказание от модели\n",
    "model.eval()\n",
    "with torch.no_grad():\n",
    "    fin_prediction = model(pf_tensor)\n",
    "\n",
    "print(f\"Предсказанный FIN для значения Course Absence Rate = {pf_value}: {fin_prediction.item()}\")\n"
   ]
  },
  {
   "cell_type": "code",
   "execution_count": null,
   "metadata": {
    "id": "gvx_CEAe6uMd"
   },
   "outputs": [],
   "source": [
    "dd"
   ]
  },
  {
   "cell_type": "code",
   "execution_count": null,
   "metadata": {},
   "outputs": [],
   "source": []
  }
 ],
 "metadata": {
  "colab": {
   "provenance": []
  },
  "kernelspec": {
   "display_name": "Python 3 (ipykernel)",
   "language": "python",
   "name": "python3"
  },
  "language_info": {
   "codemirror_mode": {
    "name": "ipython",
    "version": 3
   },
   "file_extension": ".py",
   "mimetype": "text/x-python",
   "name": "python",
   "nbconvert_exporter": "python",
   "pygments_lexer": "ipython3",
   "version": "3.9.13"
  }
 },
 "nbformat": 4,
 "nbformat_minor": 1
}
